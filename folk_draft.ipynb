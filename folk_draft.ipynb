{
 "cells": [
  {
   "cell_type": "code",
   "execution_count": 4,
   "metadata": {},
   "outputs": [],
   "source": [
    "import numpy as np\n",
    "import pandas as pd\n",
    "import matplotlib.pyplot as plt\n",
    "from folktables import ACSDataSource, ACSPublicCoverage\n",
    "\n",
    "from sklearn.metrics import accuracy_score\n",
    "from sklearn.model_selection import train_test_split\n",
    "from sklearn.pipeline import make_pipeline\n",
    "from sklearn.preprocessing import StandardScaler\n",
    "from sklearn.ensemble import GradientBoostingClassifier"
   ]
  },
  {
   "cell_type": "code",
   "execution_count": 2,
   "metadata": {},
   "outputs": [],
   "source": [
    "protected_attributes = [\n",
    "    'SEX',\n",
    "    'DIS',\n",
    "    'NATIVITY',\n",
    "    'DEAR',\n",
    "    'DEYE',\n",
    "    'MIG',\n",
    "    'MIL',\n",
    "    'AGEP',\n",
    "    'DREM',\n",
    "    'MAR',\n",
    "]"
   ]
  },
  {
   "cell_type": "code",
   "execution_count": 3,
   "metadata": {},
   "outputs": [],
   "source": [
    "data_source = ACSDataSource(survey_year='2018', horizon='5-Year', survey='person')\n",
    "acs_data = data_source.get_data()"
   ]
  },
  {
   "cell_type": "code",
   "execution_count": 5,
   "metadata": {},
   "outputs": [],
   "source": [
    "features, label, group = ACSPublicCoverage.df_to_pandas(acs_data)"
   ]
  },
  {
   "cell_type": "code",
   "execution_count": 6,
   "metadata": {},
   "outputs": [],
   "source": [
    "# save the loaded data into a csv file\n",
    "features.to_csv('./my_data/features.csv', index=False)\n",
    "label.to_csv('./my_data/label.csv', index=False)\n",
    "group.to_csv('./my_data/group.csv', index=False)"
   ]
  },
  {
   "cell_type": "code",
   "execution_count": 7,
   "metadata": {},
   "outputs": [],
   "source": [
    "# load as numpy\n",
    "features_np, label_np, group_np = ACSPublicCoverage.df_to_numpy(acs_data)"
   ]
  },
  {
   "cell_type": "code",
   "execution_count": 8,
   "metadata": {},
   "outputs": [],
   "source": [
    "# save the numpy files\n",
    "np.save('./my_data/features.npy', features_np)\n",
    "np.save('./my_data/label.npy', label_np)\n",
    "np.save('./my_data/group.npy', group_np)"
   ]
  },
  {
   "cell_type": "code",
   "execution_count": 18,
   "metadata": {},
   "outputs": [
    {
     "name": "stdout",
     "output_type": "stream",
     "text": [
      "Protected attribute: SEX\n",
      "SEX = 1: 0.43 and SEX = 2: 0.57\n",
      "Protected attribute: DIS\n",
      "DIS = 1: 0.15 and DIS = 2: 0.85\n",
      "Protected attribute: NATIVITY\n",
      "NATIVITY = 1: 0.85 and NATIVITY = 2: 0.15\n",
      "Protected attribute: DEAR\n",
      "DEAR = 1: 0.02 and DEAR = 2: 0.98\n",
      "Protected attribute: DEYE\n",
      "DEYE = 1: 0.03 and DEYE = 2: 0.97\n"
     ]
    }
   ],
   "source": [
    "for protect_attr in protected_attributes[:5]:\n",
    "    print(f'Protected attribute: {protect_attr}')\n",
    "    # Calculate prob_attr = P(protect_attr = 1) when attr can take 1 or 2\n",
    "    prob_attr_1 = np.mean(features[protect_attr] == 1)\n",
    "    prob_attr_0 = np.mean(features[protect_attr] == 2)\n",
    "    print(f'{protect_attr} = 1: {prob_attr_1:.2f} and {protect_attr} = 2: {prob_attr_0:.2f}')"
   ]
  },
  {
   "cell_type": "code",
   "execution_count": 27,
   "metadata": {},
   "outputs": [
    {
     "name": "stdout",
     "output_type": "stream",
     "text": [
      "MIL = 1 or 4: 0.90 and MIL = 0, 2 or 3: 0.10\n"
     ]
    }
   ],
   "source": [
    "# Calculate prob_attr = P(protect_attr = 1 or 4) when attr can take 0, 1, 2, 3, 4\n",
    "protect_attr = 'MIL'\n",
    "prob_attr_1 = np.mean((features[protect_attr] == 1) | (features[protect_attr] == 4))\n",
    "prob_attr_0 = np.mean((features[protect_attr] == 0) | (features[protect_attr] == 2) | (features[protect_attr] == 3))\n",
    "print(f'{protect_attr} = 1 or 4: {prob_attr_1:.2f} and {protect_attr} = 0, 2 or 3: {prob_attr_0:.2f}')"
   ]
  },
  {
   "cell_type": "code",
   "execution_count": 33,
   "metadata": {},
   "outputs": [
    {
     "name": "stdout",
     "output_type": "stream",
     "text": [
      "MIG = 1: 0.82 and MIG = 0, 2 or 3: 0.18\n"
     ]
    }
   ],
   "source": [
    "# Calculate prob_attr = P(protect_attr = 1) when attr can take 0, 1, 2, 3\n",
    "protect_attr = 'MIG'\n",
    "prob_attr_1 = np.mean(features[protect_attr] == 1)\n",
    "prob_attr_0 = np.mean(features[protect_attr].isin([0, 2, 3]))\n",
    "print(f'{protect_attr} = 1: {prob_attr_1:.2f} and {protect_attr} = 0, 2 or 3: {prob_attr_0:.2f}')"
   ]
  },
  {
   "cell_type": "code",
   "execution_count": 29,
   "metadata": {},
   "outputs": [
    {
     "name": "stdout",
     "output_type": "stream",
     "text": [
      "AGEP > 25: 0.66 and AGEP <= 25: 0.34\n"
     ]
    }
   ],
   "source": [
    "# Calculate prob_attr = P(protect_attr = 1) by thresholding at age 25\n",
    "protect_attr = 'AGEP'\n",
    "prob_attr_1 = np.mean(features[protect_attr] > 25)\n",
    "prob_attr_0 = np.mean(features[protect_attr] <= 25)\n",
    "print(f'{protect_attr} > 25: {prob_attr_1:.2f} and {protect_attr} <= 25: {prob_attr_0:.2f}')"
   ]
  },
  {
   "cell_type": "code",
   "execution_count": 32,
   "metadata": {},
   "outputs": [
    {
     "name": "stdout",
     "output_type": "stream",
     "text": [
      "MAR = 1: 0.37 and MAR = 0, 2, 3 or 4: 0.63\n"
     ]
    }
   ],
   "source": [
    "# Calculate prob_attr = P(protect_attr = 1) when attr can take 1, 2, 3, 4, 5\n",
    "protect_attr = 'MAR'\n",
    "prob_attr_1 = np.mean(features[protect_attr] == 1)\n",
    "prob_attr_0 = np.mean(features[protect_attr].isin([2, 3, 4, 5]))\n",
    "print(f'{protect_attr} = 1: {prob_attr_1:.2f} and {protect_attr} = 0, 2, 3 or 4: {prob_attr_0:.2f}')"
   ]
  },
  {
   "cell_type": "code",
   "execution_count": 35,
   "metadata": {},
   "outputs": [
    {
     "name": "stdout",
     "output_type": "stream",
     "text": [
      "DREM = 1: 0.08 and DREM = 0, 2: 0.92\n"
     ]
    }
   ],
   "source": [
    "# Calculate prob_attr = P(protect_attr = 1) when attr can take 0, 1, 2\n",
    "protect_attr = 'DREM'\n",
    "prob_attr_1 = np.mean(features[protect_attr] == 1)\n",
    "prob_attr_0 = np.mean(features[protect_attr].isin([0,2]))\n",
    "print(f'{protect_attr} = 1: {prob_attr_1:.2f} and {protect_attr} = 0, 2: {prob_attr_0:.2f}')"
   ]
  },
  {
   "cell_type": "code",
   "execution_count": null,
   "metadata": {},
   "outputs": [],
   "source": []
  }
 ],
 "metadata": {
  "kernelspec": {
   "display_name": "audits",
   "language": "python",
   "name": "python3"
  },
  "language_info": {
   "codemirror_mode": {
    "name": "ipython",
    "version": 3
   },
   "file_extension": ".py",
   "mimetype": "text/x-python",
   "name": "python",
   "nbconvert_exporter": "python",
   "pygments_lexer": "ipython3",
   "version": "3.8.17"
  }
 },
 "nbformat": 4,
 "nbformat_minor": 2
}
