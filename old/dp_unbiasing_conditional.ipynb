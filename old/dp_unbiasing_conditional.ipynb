{
 "cells": [
  {
   "cell_type": "code",
   "execution_count": 4,
   "metadata": {},
   "outputs": [],
   "source": [
    "import os\n",
    "import pandas as pd\n",
    "import numpy as np\n",
    "from itertools import combinations"
   ]
  },
  {
   "cell_type": "code",
   "execution_count": 6,
   "metadata": {},
   "outputs": [],
   "source": [
    "dataset = 'german_credit'\n",
    "data_path = '/home/dhasade/audits/ml-audits/data'\n",
    "features = pd.read_csv(os.path.join(data_path, dataset, \"features.csv\"))\n",
    "labels = pd.read_csv(os.path.join(data_path, dataset, \"labels.csv\"))"
   ]
  },
  {
   "cell_type": "code",
   "execution_count": 7,
   "metadata": {},
   "outputs": [],
   "source": [
    "protected_attributes = [\"a0\", \"a1\"] # Synthetic data\n",
    "protected_attributes = [\"sex\", \"age\"] # German credit data"
   ]
  },
  {
   "cell_type": "code",
   "execution_count": 8,
   "metadata": {},
   "outputs": [
    {
     "name": "stdout",
     "output_type": "stream",
     "text": [
      "Working on base agent 0\n",
      "Working on k=1\n",
      "Working on ['age']\n",
      "Working on base agent 1\n",
      "Working on k=1\n",
      "Working on ['sex']\n"
     ]
    }
   ],
   "source": [
    "n = 2\n",
    "\n",
    "all_probs = dict()\n",
    "all_ys = dict()\n",
    "\n",
    "for base_agent in range(n): # Base agent\n",
    "    print(f'Working on base agent {base_agent}')\n",
    "    base_attr = protected_attributes[base_agent]\n",
    "    possible_collaborators = [i for i in range(n) if i != base_agent]\n",
    "    all_probs[base_agent] = dict()\n",
    "    all_ys[base_agent] = dict()\n",
    "\n",
    "    X_0 = features.copy()\n",
    "    X_0 = X_0[X_0[base_attr] == 0]\n",
    "    y_0 = labels.loc[X_0.index]\n",
    "\n",
    "    X_1 = features.copy()\n",
    "    X_1 = X_1[X_1[base_attr] == 1]\n",
    "    y_1 = labels.loc[X_1.index]\n",
    "\n",
    "    for k in range(1, n): # Number of collaborators, 1 to n-1\n",
    "\n",
    "        print(f'Working on k={k}')\n",
    "        all_probs[base_agent][k] = dict()\n",
    "        all_ys[base_agent][k] = dict()\n",
    "\n",
    "        agent_combinations_list = list(combinations(possible_collaborators, k))\n",
    "\n",
    "        for agent_combination in agent_combinations_list:\n",
    "            agent_comb_str = ''.join([str(elem) for elem in agent_combination])\n",
    "\n",
    "            all_probs[base_agent][k][agent_comb_str] = dict()\n",
    "            all_ys[base_agent][k][agent_comb_str] = dict()\n",
    "\n",
    "            total_strings = 2 ** (k)\n",
    "            binary_strings = [format(i, f'0{k}b') for i in range(total_strings)]\n",
    "\n",
    "            attrs = [protected_attributes[i] for i in agent_combination]\n",
    "            print(f'Working on {attrs}')\n",
    "            for binary_string in binary_strings:\n",
    "\n",
    "                all_probs[base_agent][k][agent_comb_str][binary_string] = dict()\n",
    "                all_ys[base_agent][k][agent_comb_str][binary_string] = dict()\n",
    "\n",
    "                pairs = [(attrs[i], int(binary_string[i])) for i in range(k)]\n",
    "\n",
    "                # Restore X_transformed that satisfies the binary string\n",
    "                X_temp = X_0.copy()\n",
    "                for attr, val in pairs:\n",
    "                    X_temp = X_temp[X_temp[attr] == val]\n",
    "                y_tmp = y_0.loc[X_temp.index]\n",
    "                assert len(X_temp) == len(y_tmp), f'Length mismatch ==> X: {len(X_temp)}, y: {len(y_tmp)}'\n",
    "                \n",
    "                all_probs[base_agent][k][agent_comb_str][binary_string][0] = len(X_temp) / len(features)\n",
    "                all_ys[base_agent][k][agent_comb_str][binary_string][0] = y_tmp.mean().item()\n",
    "                \n",
    "                X_temp = X_1.copy()\n",
    "                for attr, val in pairs:\n",
    "                    X_temp = X_temp[X_temp[attr] == val]\n",
    "                y_tmp = y_1.loc[X_temp.index]\n",
    "                assert len(X_temp) == len(y_tmp), f'Length mismatch ==> X: {len(X_temp)}, y: {len(y_tmp)}'\n",
    "                \n",
    "                all_probs[base_agent][k][agent_comb_str][binary_string][1] = len(X_temp) / len(features)\n",
    "                all_ys[base_agent][k][agent_comb_str][binary_string][1] = y_tmp.mean().item()\n"
   ]
  },
  {
   "cell_type": "code",
   "execution_count": 10,
   "metadata": {},
   "outputs": [
    {
     "data": {
      "text/plain": [
       "{1: {'0': {'0': {0: 0.105, 1: 0.205}, '1': {0: 0.085, 1: 0.605}}}}"
      ]
     },
     "execution_count": 10,
     "metadata": {},
     "output_type": "execute_result"
    }
   ],
   "source": [
    "all_probs[1]"
   ]
  },
  {
   "cell_type": "code",
   "execution_count": null,
   "metadata": {},
   "outputs": [],
   "source": []
  }
 ],
 "metadata": {
  "kernelspec": {
   "display_name": "audits",
   "language": "python",
   "name": "python3"
  },
  "language_info": {
   "codemirror_mode": {
    "name": "ipython",
    "version": 3
   },
   "file_extension": ".py",
   "mimetype": "text/x-python",
   "name": "python",
   "nbconvert_exporter": "python",
   "pygments_lexer": "ipython3",
   "version": "3.8.17"
  }
 },
 "nbformat": 4,
 "nbformat_minor": 2
}
