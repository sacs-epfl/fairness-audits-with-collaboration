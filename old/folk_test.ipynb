{
 "cells": [
  {
   "cell_type": "code",
   "execution_count": 1,
   "metadata": {},
   "outputs": [],
   "source": [
    "import numpy as np\n",
    "import pandas as pd\n",
    "import matplotlib.pyplot as plt\n",
    "from folktables import ACSDataSource"
   ]
  },
  {
   "cell_type": "code",
   "execution_count": 6,
   "metadata": {},
   "outputs": [],
   "source": [
    "data_source = ACSDataSource(survey_year='2018', horizon='5-Year', survey='person')"
   ]
  },
  {
   "cell_type": "code",
   "execution_count": 8,
   "metadata": {},
   "outputs": [
    {
     "name": "stdout",
     "output_type": "stream",
     "text": [
      "Downloading data for 2018 5-Year person survey for AL...\n",
      "Downloading data for 2018 5-Year person survey for AK...\n",
      "Downloading data for 2018 5-Year person survey for AZ...\n",
      "Downloading data for 2018 5-Year person survey for AR...\n",
      "Downloading data for 2018 5-Year person survey for CA...\n",
      "Downloading data for 2018 5-Year person survey for CO...\n",
      "Downloading data for 2018 5-Year person survey for CT...\n",
      "Downloading data for 2018 5-Year person survey for DE...\n",
      "Downloading data for 2018 5-Year person survey for FL...\n",
      "Downloading data for 2018 5-Year person survey for GA...\n",
      "Downloading data for 2018 5-Year person survey for HI...\n",
      "Downloading data for 2018 5-Year person survey for ID...\n",
      "Downloading data for 2018 5-Year person survey for IL...\n",
      "Downloading data for 2018 5-Year person survey for IN...\n",
      "Downloading data for 2018 5-Year person survey for IA...\n",
      "Downloading data for 2018 5-Year person survey for KS...\n",
      "Downloading data for 2018 5-Year person survey for KY...\n",
      "Downloading data for 2018 5-Year person survey for LA...\n",
      "Downloading data for 2018 5-Year person survey for ME...\n",
      "Downloading data for 2018 5-Year person survey for MD...\n",
      "Downloading data for 2018 5-Year person survey for MA...\n",
      "Downloading data for 2018 5-Year person survey for MI...\n",
      "Downloading data for 2018 5-Year person survey for MN...\n",
      "Downloading data for 2018 5-Year person survey for MS...\n",
      "Downloading data for 2018 5-Year person survey for MO...\n",
      "Downloading data for 2018 5-Year person survey for MT...\n",
      "Downloading data for 2018 5-Year person survey for NE...\n",
      "Downloading data for 2018 5-Year person survey for NV...\n",
      "Downloading data for 2018 5-Year person survey for NH...\n",
      "Downloading data for 2018 5-Year person survey for NJ...\n",
      "Downloading data for 2018 5-Year person survey for NM...\n",
      "Downloading data for 2018 5-Year person survey for NY...\n",
      "Downloading data for 2018 5-Year person survey for NC...\n",
      "Downloading data for 2018 5-Year person survey for ND...\n",
      "Downloading data for 2018 5-Year person survey for OH...\n",
      "Downloading data for 2018 5-Year person survey for OK...\n",
      "Downloading data for 2018 5-Year person survey for OR...\n",
      "Downloading data for 2018 5-Year person survey for PA...\n",
      "Downloading data for 2018 5-Year person survey for RI...\n",
      "Downloading data for 2018 5-Year person survey for SC...\n",
      "Downloading data for 2018 5-Year person survey for SD...\n",
      "Downloading data for 2018 5-Year person survey for TN...\n",
      "Downloading data for 2018 5-Year person survey for TX...\n",
      "Downloading data for 2018 5-Year person survey for UT...\n",
      "Downloading data for 2018 5-Year person survey for VT...\n",
      "Downloading data for 2018 5-Year person survey for VA...\n",
      "Downloading data for 2018 5-Year person survey for WA...\n",
      "Downloading data for 2018 5-Year person survey for WV...\n",
      "Downloading data for 2018 5-Year person survey for WI...\n",
      "Downloading data for 2018 5-Year person survey for WY...\n",
      "Downloading data for 2018 5-Year person survey for PR...\n"
     ]
    }
   ],
   "source": [
    "acs_data = data_source.get_data(download=True)"
   ]
  },
  {
   "cell_type": "code",
   "execution_count": 11,
   "metadata": {},
   "outputs": [
    {
     "data": {
      "text/plain": [
       "Index(['RT', 'SERIALNO', 'DIVISION', 'SPORDER', 'PUMA', 'REGION', 'ST',\n",
       "       'ADJINC', 'PWGTP', 'AGEP',\n",
       "       ...\n",
       "       'PWGTP71', 'PWGTP72', 'PWGTP73', 'PWGTP74', 'PWGTP75', 'PWGTP76',\n",
       "       'PWGTP77', 'PWGTP78', 'PWGTP79', 'PWGTP80'],\n",
       "      dtype='object', length=286)"
      ]
     },
     "execution_count": 11,
     "metadata": {},
     "output_type": "execute_result"
    }
   ],
   "source": [
    "acs_data.columns"
   ]
  },
  {
   "cell_type": "code",
   "execution_count": 12,
   "metadata": {},
   "outputs": [],
   "source": [
    "from folktables import ACSPublicCoverage"
   ]
  },
  {
   "cell_type": "code",
   "execution_count": 14,
   "metadata": {},
   "outputs": [],
   "source": [
    "features, label, group = ACSPublicCoverage.df_to_numpy(acs_data)"
   ]
  },
  {
   "cell_type": "code",
   "execution_count": 22,
   "metadata": {},
   "outputs": [],
   "source": [
    "df = ACSPublicCoverage.df_to_pandas(acs_data)"
   ]
  },
  {
   "cell_type": "code",
   "execution_count": 25,
   "metadata": {},
   "outputs": [],
   "source": [
    "f1, l1, g1 = df"
   ]
  },
  {
   "cell_type": "code",
   "execution_count": 33,
   "metadata": {},
   "outputs": [
    {
     "name": "stdout",
     "output_type": "stream",
     "text": [
      "<class 'pandas.core.frame.DataFrame'>\n",
      "RangeIndex: 5916565 entries, 0 to 5916564\n",
      "Data columns (total 19 columns):\n",
      " #   Column    Dtype  \n",
      "---  ------    -----  \n",
      " 0   AGEP      float64\n",
      " 1   SCHL      float64\n",
      " 2   MAR       float64\n",
      " 3   SEX       float64\n",
      " 4   DIS       float64\n",
      " 5   ESP       float64\n",
      " 6   CIT       float64\n",
      " 7   MIG       float64\n",
      " 8   MIL       float64\n",
      " 9   ANC       float64\n",
      " 10  NATIVITY  float64\n",
      " 11  DEAR      float64\n",
      " 12  DEYE      float64\n",
      " 13  DREM      float64\n",
      " 14  PINCP     float64\n",
      " 15  ESR       float64\n",
      " 16  ST        float64\n",
      " 17  FER       float64\n",
      " 18  RAC1P     float64\n",
      "dtypes: float64(19)\n",
      "memory usage: 857.7 MB\n"
     ]
    }
   ],
   "source": [
    "f1.info()"
   ]
  },
  {
   "cell_type": "code",
   "execution_count": 36,
   "metadata": {},
   "outputs": [
    {
     "data": {
      "text/plain": [
       "array([1., 5., 3., 4., 2.])"
      ]
     },
     "execution_count": 36,
     "metadata": {},
     "output_type": "execute_result"
    }
   ],
   "source": [
    "f1.MAR.unique()"
   ]
  },
  {
   "cell_type": "code",
   "execution_count": 38,
   "metadata": {},
   "outputs": [],
   "source": [
    "import numpy as np\n",
    "from sklearn.linear_model import LogisticRegression\n",
    "from sklearn.model_selection import train_test_split\n",
    "from sklearn.pipeline import make_pipeline\n",
    "from sklearn.preprocessing import StandardScaler\n",
    "from sklearn.ensemble import GradientBoostingClassifier"
   ]
  },
  {
   "cell_type": "code",
   "execution_count": 39,
   "metadata": {},
   "outputs": [],
   "source": [
    "X_train, X_test, y_train, y_test, group_train, group_test = train_test_split(\n",
    "    features, label, group, test_size=0.2, random_state=0)"
   ]
  },
  {
   "cell_type": "code",
   "execution_count": 40,
   "metadata": {},
   "outputs": [],
   "source": [
    "model = GradientBoostingClassifier(loss='exponential', n_estimators=5, max_depth=5)"
   ]
  },
  {
   "cell_type": "code",
   "execution_count": null,
   "metadata": {},
   "outputs": [],
   "source": [
    "model.fit(X_train, y_train)"
   ]
  },
  {
   "cell_type": "code",
   "execution_count": 42,
   "metadata": {},
   "outputs": [],
   "source": [
    "from sklearn.metrics import accuracy_score"
   ]
  },
  {
   "cell_type": "code",
   "execution_count": 43,
   "metadata": {},
   "outputs": [],
   "source": [
    "y_pred = model.predict(X_test)"
   ]
  },
  {
   "cell_type": "code",
   "execution_count": 44,
   "metadata": {},
   "outputs": [
    {
     "data": {
      "text/plain": [
       "0.7127843605199977"
      ]
     },
     "execution_count": 44,
     "metadata": {},
     "output_type": "execute_result"
    }
   ],
   "source": [
    "accuracy_score(y_test, y_pred)"
   ]
  }
 ],
 "metadata": {
  "kernelspec": {
   "display_name": "audits",
   "language": "python",
   "name": "python3"
  },
  "language_info": {
   "codemirror_mode": {
    "name": "ipython",
    "version": 3
   },
   "file_extension": ".py",
   "mimetype": "text/x-python",
   "name": "python",
   "nbconvert_exporter": "python",
   "pygments_lexer": "ipython3",
   "version": "3.8.17"
  }
 },
 "nbformat": 4,
 "nbformat_minor": 2
}
