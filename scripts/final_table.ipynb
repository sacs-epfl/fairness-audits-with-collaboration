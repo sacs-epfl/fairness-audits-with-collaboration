{
 "cells": [
  {
   "cell_type": "code",
   "execution_count": 4,
   "metadata": {},
   "outputs": [],
   "source": [
    "import numpy as np\n",
    "import matplotlib.pyplot as plt\n",
    "import pandas as pd\n",
    "import os"
   ]
  },
  {
   "cell_type": "code",
   "execution_count": 2,
   "metadata": {},
   "outputs": [],
   "source": [
    "root_dir = '/home/dhasade/audits/ml-audits/results/plots_data/'"
   ]
  },
  {
   "cell_type": "code",
   "execution_count": 3,
   "metadata": {},
   "outputs": [],
   "source": [
    "datasets = ['gc', 'pp', 'ft']"
   ]
  },
  {
   "cell_type": "code",
   "execution_count": 31,
   "metadata": {},
   "outputs": [],
   "source": [
    "d = datasets[1]\n",
    "\n",
    "# read files for stratified, neyman and uniform\n",
    "stratified_path = os.path.join(root_dir, f'{d}_multicolab_stratified.csv')\n",
    "neyman_path = os.path.join(root_dir, f'{d}_multicolab_neyman.csv')\n",
    "uniform_path = os.path.join(root_dir, f'{d}_multicolab_uniform.csv')\n",
    "\n",
    "stratified_df = pd.read_csv(stratified_path)\n",
    "neyman_df = pd.read_csv(neyman_path)\n",
    "uniform_df = pd.read_csv(uniform_path)"
   ]
  },
  {
   "cell_type": "code",
   "execution_count": 32,
   "metadata": {},
   "outputs": [],
   "source": [
    "# keep only rows with n = 5 in each df\n",
    "stratified_df = stratified_df[stratified_df['n'] == 5]\n",
    "neyman_df = neyman_df[neyman_df['n'] == 5]\n",
    "uniform_df = uniform_df[uniform_df['n'] == 5]"
   ]
  },
  {
   "cell_type": "code",
   "execution_count": 33,
   "metadata": {},
   "outputs": [
    {
     "name": "stdout",
     "output_type": "stream",
     "text": [
      "Strategy & No Collab. & A posteriori & A priori \\\\\n",
      "Uniform & 0.269 & 0.122 & 0.122 \\\\\n",
      "Stratified & 0.242 & 0.116 & 0.161 \\\\\n",
      "Neyman & 0.241 & 0.116 & 0.110 \\\\\n"
     ]
    }
   ],
   "source": [
    "# create a table, columns are different collaboration, row is each strategy\n",
    "# each cell is cum_dp_error\n",
    "\n",
    "# print header\n",
    "header_str = 'Strategy'\n",
    "for collaboration in ['No Collab.', 'A posteriori', 'A priori']:\n",
    "    header_str += f' & {collaboration}'\n",
    "header_str += ' \\\\\\\\'\n",
    "print(header_str)\n",
    "\n",
    "# uniform\n",
    "row_str = 'Uniform'\n",
    "for collaboration in ['none', 'aposteriori', 'apriori']:\n",
    "    row_str += f' & {uniform_df[uniform_df[\"collaboration\"] == collaboration][\"cum_dp_error\"].values[0]:.3f}'\n",
    "row_str += ' \\\\\\\\'\n",
    "print(row_str)\n",
    "\n",
    "# stratified\n",
    "row_str = 'Stratified'\n",
    "for collaboration in ['none', 'aposteriori', 'apriori']:\n",
    "    row_str += f' & {stratified_df[stratified_df[\"collaboration\"] == collaboration][\"cum_dp_error\"].values[0]:.3f}'\n",
    "row_str += ' \\\\\\\\'\n",
    "print(row_str)\n",
    "\n",
    "# neyman\n",
    "row_str = 'Neyman'\n",
    "for collaboration in ['none', 'aposteriori', 'apriori']:\n",
    "    row_str += f' & {neyman_df[neyman_df[\"collaboration\"] == collaboration][\"cum_dp_error\"].values[0]:.3f}'\n",
    "row_str += ' \\\\\\\\'\n",
    "print(row_str)"
   ]
  },
  {
   "cell_type": "code",
   "execution_count": null,
   "metadata": {},
   "outputs": [],
   "source": []
  }
 ],
 "metadata": {
  "kernelspec": {
   "display_name": "audits",
   "language": "python",
   "name": "python3"
  },
  "language_info": {
   "codemirror_mode": {
    "name": "ipython",
    "version": 3
   },
   "file_extension": ".py",
   "mimetype": "text/x-python",
   "name": "python",
   "nbconvert_exporter": "python",
   "pygments_lexer": "ipython3",
   "version": "3.8.17"
  }
 },
 "nbformat": 4,
 "nbformat_minor": 2
}
