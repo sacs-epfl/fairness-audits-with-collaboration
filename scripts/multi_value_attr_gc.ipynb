{
 "cells": [
  {
   "cell_type": "code",
   "execution_count": 1,
   "metadata": {},
   "outputs": [
    {
     "name": "stderr",
     "output_type": "stream",
     "text": [
      "WARNING:root:No module named 'tempeh': fetch_lawschool_gpa will be unavailable. To install, run:\n",
      "pip install 'aif360[LawSchoolGPA]'\n"
     ]
    },
    {
     "name": "stdout",
     "output_type": "stream",
     "text": [
      "Fetching German Credit dataset...\n"
     ]
    },
    {
     "name": "stderr",
     "output_type": "stream",
     "text": [
      "/home/dhasade/.local/lib/python3.8/site-packages/sklearn/datasets/_openml.py:1022: FutureWarning: The default value of `parser` will change from `'liac-arff'` to `'auto'` in 1.4. You can set `parser='auto'` to silence this warning. Therefore, an `ImportError` will be raised from 1.4 if the dataset is dense and pandas is not installed. Note that the pandas parser may return different data types. See the Notes Section in fetch_openml's API doc for details.\n",
      "  warn(\n"
     ]
    }
   ],
   "source": [
    "import os\n",
    "\n",
    "import pandas as pd\n",
    "from aif360.sklearn.datasets import fetch_german\n",
    "from sklearn.preprocessing import LabelEncoder\n",
    "\n",
    "if not os.path.exists(os.path.join(\"..\", \"data\")):\n",
    "    os.mkdir(os.path.join(\"..\", \"data\"))\n",
    "\n",
    "if not os.path.exists(os.path.join(\"..\", \"data\", \"german_credit\")):\n",
    "    os.mkdir(os.path.join(\"..\", \"data\", \"german_credit\"))\n",
    "\n",
    "print(\"Fetching German Credit dataset...\")\n",
    "dataset = fetch_german()"
   ]
  },
  {
   "cell_type": "code",
   "execution_count": 2,
   "metadata": {},
   "outputs": [],
   "source": [
    "# split into inputs and outputs\n",
    "\n",
    "X, y = dataset.X, dataset.y"
   ]
  },
  {
   "cell_type": "code",
   "execution_count": 3,
   "metadata": {},
   "outputs": [
    {
     "data": {
      "text/plain": [
       "['single', 'div/dep/mar', 'div/sep', 'mar/wid']\n",
       "Categories (4, object): ['div/dep/mar', 'div/sep', 'mar/wid', 'single']"
      ]
     },
     "execution_count": 3,
     "metadata": {},
     "output_type": "execute_result"
    }
   ],
   "source": [
    "X.marital_status.unique()"
   ]
  },
  {
   "cell_type": "code",
   "execution_count": 4,
   "metadata": {},
   "outputs": [
    {
     "data": {
      "text/plain": [
       "['yes', 'none']\n",
       "Categories (2, object): ['none', 'yes']"
      ]
     },
     "execution_count": 4,
     "metadata": {},
     "output_type": "execute_result"
    }
   ],
   "source": [
    "X.own_telephone.unique()"
   ]
  },
  {
   "cell_type": "code",
   "execution_count": 5,
   "metadata": {},
   "outputs": [
    {
     "data": {
      "text/plain": [
       "['male', 'female']\n",
       "Categories (2, object): ['female' < 'male']"
      ]
     },
     "execution_count": 5,
     "metadata": {},
     "output_type": "execute_result"
    }
   ],
   "source": [
    "X.sex.unique()"
   ]
  },
  {
   "cell_type": "code",
   "execution_count": 6,
   "metadata": {},
   "outputs": [
    {
     "data": {
      "text/plain": [
       "array([67., 22., 49., 45., 53., 35., 61., 28., 25., 24., 60., 32., 44.,\n",
       "       31., 48., 26., 36., 39., 42., 34., 63., 27., 30., 57., 33., 37.,\n",
       "       58., 23., 29., 52., 50., 46., 51., 41., 40., 66., 47., 56., 54.,\n",
       "       20., 21., 38., 70., 65., 74., 68., 43., 55., 64., 75., 19., 62.,\n",
       "       59.])"
      ]
     },
     "execution_count": 6,
     "metadata": {},
     "output_type": "execute_result"
    }
   ],
   "source": [
    "X.age.unique()"
   ]
  },
  {
   "cell_type": "code",
   "execution_count": 7,
   "metadata": {},
   "outputs": [
    {
     "data": {
      "text/plain": [
       "<Axes: >"
      ]
     },
     "execution_count": 7,
     "metadata": {},
     "output_type": "execute_result"
    },
    {
     "data": {
      "image/png": "[encoded data removed]",
      "text/plain": [
       "<Figure size 640x480 with 1 Axes>"
      ]
     },
     "metadata": {},
     "output_type": "display_data"
    }
   ],
   "source": [
    "# plot histogram of age\n",
    "X.age.hist()"
   ]
  },
  {
   "cell_type": "code",
   "execution_count": 8,
   "metadata": {},
   "outputs": [
    {
     "data": {
      "text/plain": [
       "['>=7', '1<=X<4', '4<=X<7', 'unemployed', '<1']\n",
       "Categories (5, object): ['1<=X<4', '4<=X<7', '<1', '>=7', 'unemployed']"
      ]
     },
     "execution_count": 8,
     "metadata": {},
     "output_type": "execute_result"
    }
   ],
   "source": [
    "X.employment.unique()"
   ]
  },
  {
   "cell_type": "code",
   "execution_count": 9,
   "metadata": {},
   "outputs": [
    {
     "data": {
      "text/plain": [
       "<Axes: >"
      ]
     },
     "execution_count": 9,
     "metadata": {},
     "output_type": "execute_result"
    },
    {
     "data": {
      "image/png": "[encoded data removed]",
      "text/plain": [
       "<Figure size 640x480 with 1 Axes>"
      ]
     },
     "metadata": {},
     "output_type": "display_data"
    }
   ],
   "source": [
    "X.employment.hist()"
   ]
  },
  {
   "cell_type": "code",
   "execution_count": 10,
   "metadata": {},
   "outputs": [],
   "source": [
    "attributes = ['employment', 'marital_status', 'own_telephone', 'sex']\n",
    "\n",
    "# encode categorical variables\n",
    "le = LabelEncoder()\n",
    "for attr in attributes:\n",
    "    X[attr] = le.fit_transform(X[attr])"
   ]
  },
  {
   "cell_type": "code",
   "execution_count": 15,
   "metadata": {},
   "outputs": [],
   "source": [
    "# encode age as a categorical variable into 3 bins: < 25, 25-50, > 50\n",
    "X['age'] = pd.cut(X['age'], bins=[0, 25, 50, 100], labels=[0, 1, 2])"
   ]
  },
  {
   "cell_type": "code",
   "execution_count": 19,
   "metadata": {},
   "outputs": [],
   "source": [
    "X = X.reset_index(drop=True)\n",
    "# X.to_csv(os.path.join(\"..\", \"data\", \"german_credit\", \"ma_features.csv\"), index=False)"
   ]
  },
  {
   "cell_type": "code",
   "execution_count": 20,
   "metadata": {},
   "outputs": [],
   "source": [
    "y = LabelEncoder().fit_transform(y)\n",
    "y = pd.DataFrame(y)\n",
    "y = y.rename(columns={0: \"Y\"})\n",
    "# y.to_csv(os.path.join(\"..\", \"data\", \"german_credit\", \"ma_labels.csv\"), index=False)"
   ]
  },
  {
   "cell_type": "markdown",
   "metadata": {},
   "source": [
    "## ------------- Compute strata sizes -------------"
   ]
  },
  {
   "cell_type": "code",
   "execution_count": 29,
   "metadata": {},
   "outputs": [],
   "source": [
    "def get_sum_value(nested_dict):\n",
    "    sum_value = 0\n",
    "    for _, v in nested_dict.items():\n",
    "        if isinstance(v, dict):\n",
    "            v = get_sum_value(v)\n",
    "        sum_value += v\n",
    "    return sum_value\n",
    "\n",
    "def get_max_value(nested_dict):\n",
    "    max_value = 0\n",
    "    for _, v in nested_dict.items():\n",
    "        if isinstance(v, dict):\n",
    "            v = get_max_value(v)\n",
    "        if v > max_value:\n",
    "            max_value = v\n",
    "    return max_value"
   ]
  },
  {
   "cell_type": "code",
   "execution_count": 2,
   "metadata": {},
   "outputs": [],
   "source": [
    "X_path = os.path.join(\"..\", \"data\", \"german_credit\", \"ma_features.csv\")\n",
    "y_path = os.path.join(\"..\", \"data\", \"german_credit\", \"ma_labels.csv\")\n",
    "\n",
    "# read in the data\n",
    "X = pd.read_csv(X_path)\n",
    "y = pd.read_csv(y_path)"
   ]
  },
  {
   "cell_type": "code",
   "execution_count": 4,
   "metadata": {},
   "outputs": [],
   "source": [
    "protected_attributes = ['employment', 'marital_status', 'own_telephone', 'sex', 'age']\n",
    "possible_values = [len(X[attr].unique()) for attr in protected_attributes]\n",
    "value_sets = [set(range(possible_values[i])) for i in range(len(possible_values))]"
   ]
  },
  {
   "cell_type": "code",
   "execution_count": 67,
   "metadata": {},
   "outputs": [
    {
     "data": {
      "text/plain": [
       "[5, 4, 2, 2, 3]"
      ]
     },
     "execution_count": 67,
     "metadata": {},
     "output_type": "execute_result"
    }
   ],
   "source": [
    "possible_values"
   ]
  },
  {
   "cell_type": "code",
   "execution_count": 39,
   "metadata": {},
   "outputs": [],
   "source": [
    "from itertools import combinations, product\n",
    "import pickle\n",
    "import numpy as np\n",
    "import matplotlib.pyplot as plt"
   ]
  },
  {
   "cell_type": "code",
   "execution_count": 36,
   "metadata": {},
   "outputs": [
    {
     "name": "stdout",
     "output_type": "stream",
     "text": [
      "Working on base agent 0\n",
      "Working on k=0\n",
      "Working on []\n",
      "Working on k=1\n",
      "Working on ['marital_status']\n",
      "Working on ['own_telephone']\n",
      "Working on ['sex']\n",
      "Working on ['age']\n",
      "Working on k=2\n",
      "Working on ['marital_status', 'own_telephone']\n",
      "Working on ['marital_status', 'sex']\n",
      "Working on ['marital_status', 'age']\n",
      "Working on ['own_telephone', 'sex']\n",
      "Working on ['own_telephone', 'age']\n",
      "Working on ['sex', 'age']\n",
      "Working on k=3\n",
      "Working on ['marital_status', 'own_telephone', 'sex']\n",
      "Working on ['marital_status', 'own_telephone', 'age']\n",
      "Working on ['marital_status', 'sex', 'age']\n",
      "Working on ['own_telephone', 'sex', 'age']\n",
      "Working on k=4\n",
      "Working on ['marital_status', 'own_telephone', 'sex', 'age']\n",
      "Working on base agent 1\n",
      "Working on k=0\n",
      "Working on []\n",
      "Working on k=1\n",
      "Working on ['employment']\n",
      "Working on ['own_telephone']\n",
      "Working on ['sex']\n",
      "Working on ['age']\n",
      "Working on k=2\n",
      "Working on ['employment', 'own_telephone']\n",
      "Working on ['employment', 'sex']\n",
      "Working on ['employment', 'age']\n",
      "Working on ['own_telephone', 'sex']\n",
      "Working on ['own_telephone', 'age']\n",
      "Working on ['sex', 'age']\n",
      "Working on k=3\n",
      "Working on ['employment', 'own_telephone', 'sex']\n",
      "Working on ['employment', 'own_telephone', 'age']\n",
      "Working on ['employment', 'sex', 'age']\n",
      "Working on ['own_telephone', 'sex', 'age']\n",
      "Working on k=4\n",
      "Working on ['employment', 'own_telephone', 'sex', 'age']\n",
      "Working on base agent 2\n",
      "Working on k=0\n",
      "Working on []\n",
      "Working on k=1\n",
      "Working on ['employment']\n",
      "Working on ['marital_status']\n",
      "Working on ['sex']\n",
      "Working on ['age']\n",
      "Working on k=2\n",
      "Working on ['employment', 'marital_status']\n",
      "Working on ['employment', 'sex']\n",
      "Working on ['employment', 'age']\n",
      "Working on ['marital_status', 'sex']\n",
      "Working on ['marital_status', 'age']\n",
      "Working on ['sex', 'age']\n",
      "Working on k=3\n",
      "Working on ['employment', 'marital_status', 'sex']\n",
      "Working on ['employment', 'marital_status', 'age']\n",
      "Working on ['employment', 'sex', 'age']\n",
      "Working on ['marital_status', 'sex', 'age']\n",
      "Working on k=4\n",
      "Working on ['employment', 'marital_status', 'sex', 'age']\n",
      "Working on base agent 3\n",
      "Working on k=0\n",
      "Working on []\n",
      "Working on k=1\n",
      "Working on ['employment']\n",
      "Working on ['marital_status']\n",
      "Working on ['own_telephone']\n",
      "Working on ['age']\n",
      "Working on k=2\n",
      "Working on ['employment', 'marital_status']\n",
      "Working on ['employment', 'own_telephone']\n",
      "Working on ['employment', 'age']\n",
      "Working on ['marital_status', 'own_telephone']\n",
      "Working on ['marital_status', 'age']\n",
      "Working on ['own_telephone', 'age']\n",
      "Working on k=3\n",
      "Working on ['employment', 'marital_status', 'own_telephone']\n",
      "Working on ['employment', 'marital_status', 'age']\n",
      "Working on ['employment', 'own_telephone', 'age']\n",
      "Working on ['marital_status', 'own_telephone', 'age']\n",
      "Working on k=4\n",
      "Working on ['employment', 'marital_status', 'own_telephone', 'age']\n",
      "Working on base agent 4\n",
      "Working on k=0\n",
      "Working on []\n",
      "Working on k=1\n",
      "Working on ['employment']\n",
      "Working on ['marital_status']\n",
      "Working on ['own_telephone']\n",
      "Working on ['sex']\n",
      "Working on k=2\n",
      "Working on ['employment', 'marital_status']\n",
      "Working on ['employment', 'own_telephone']\n",
      "Working on ['employment', 'sex']\n",
      "Working on ['marital_status', 'own_telephone']\n",
      "Working on ['marital_status', 'sex']\n",
      "Working on ['own_telephone', 'sex']\n",
      "Working on k=3\n",
      "Working on ['employment', 'marital_status', 'own_telephone']\n",
      "Working on ['employment', 'marital_status', 'sex']\n",
      "Working on ['employment', 'own_telephone', 'sex']\n",
      "Working on ['marital_status', 'own_telephone', 'sex']\n",
      "Working on k=4\n",
      "Working on ['employment', 'marital_status', 'own_telephone', 'sex']\n"
     ]
    }
   ],
   "source": [
    "features = X\n",
    "labels = y\n",
    "n = len(protected_attributes)\n",
    "\n",
    "all_probs = dict()\n",
    "all_ys = dict()\n",
    "all_nks = dict()\n",
    "\n",
    "for base_agent in range(n): # Base agent\n",
    "    print(f'Working on base agent {base_agent}')\n",
    "    base_attr = protected_attributes[base_agent]\n",
    "    possible_collaborators = [i for i in range(n) if i != base_agent]\n",
    "    all_probs[base_agent] = dict()\n",
    "    all_ys[base_agent] = dict()\n",
    "    all_nks[base_agent] = dict()\n",
    "\n",
    "    for k in range(0, n): # Number of collaborators, 1 to n-1\n",
    "\n",
    "        print(f'Working on k={k}')\n",
    "        all_probs[base_agent][k] = dict()\n",
    "        all_ys[base_agent][k] = dict()\n",
    "        all_nks[base_agent][k] = dict()\n",
    "\n",
    "        agent_combinations_list = list(combinations(possible_collaborators, k))\n",
    "\n",
    "        for agent_combination in agent_combinations_list:\n",
    "            agent_comb_str = ''.join([str(elem) for elem in agent_combination])\n",
    "\n",
    "            all_probs[base_agent][k][agent_comb_str] = dict()\n",
    "            all_ys[base_agent][k][agent_comb_str] = dict()\n",
    "            all_nks[base_agent][k][agent_comb_str] = dict()\n",
    "\n",
    "            current_set = [value_sets[i] for i in agent_combination]\n",
    "            value_strings = list(product(*current_set))\n",
    "            value_strings = [\"\".join([str(elem) for elem in value_string]) for value_string in value_strings]\n",
    "\n",
    "            attrs = [protected_attributes[i] for i in agent_combination]\n",
    "            print(f'Working on {attrs}')\n",
    "            for value_string in value_strings:\n",
    "\n",
    "                all_probs[base_agent][k][agent_comb_str][value_string] = dict()\n",
    "                all_ys[base_agent][k][agent_comb_str][value_string] = dict()\n",
    "                all_nks[base_agent][k][agent_comb_str][value_string] = dict()\n",
    "\n",
    "                pairs = [(attrs[i], int(value_string[i])) for i in range(k)]\n",
    "\n",
    "                base_agent_value_set = value_sets[base_agent]\n",
    "                \n",
    "                for base_agent_value in base_agent_value_set:\n",
    "                    X_temp = features.copy()\n",
    "                    X_temp = X_temp[X_temp[base_attr] == base_agent_value]\n",
    "                    X_temp_i = X_temp.copy()\n",
    "                    for attr, val in pairs:\n",
    "                        X_temp = X_temp[X_temp[attr] == val]\n",
    "                    y_tmp = labels.loc[X_temp.index]\n",
    "                    assert len(X_temp) == len(y_tmp), f'Length mismatch ==> X: {len(X_temp)}, y: {len(y_tmp)}'\n",
    "                \n",
    "                    all_probs[base_agent][k][agent_comb_str][value_string][base_agent_value] = len(X_temp) / len(X_temp_i)\n",
    "                    all_ys[base_agent][k][agent_comb_str][value_string][base_agent_value] = y_tmp.mean().item()\n",
    "                    all_nks[base_agent][k][agent_comb_str][value_string][base_agent_value] = len(X_temp)\n",
    "\n",
    "subspace_features_probabilities = all_probs\n",
    "subspace_labels_probabilities = all_ys\n",
    "subspace_sizes = all_nks"
   ]
  },
  {
   "cell_type": "code",
   "execution_count": 37,
   "metadata": {},
   "outputs": [],
   "source": [
    "# save all the data\n",
    "dataset_name = \"german_credit\"\n",
    "all_probs_file = os.path.join(\"..\", \"data\", dataset_name, \"ma_all_probs.pkl\")\n",
    "all_ys_file = os.path.join(\"..\", \"data\", dataset_name, \"ma_all_ys.pkl\")\n",
    "all_nks_file = os.path.join(\"..\", \"data\", dataset_name, \"ma_all_nks.pkl\")\n",
    "\n",
    "pickle.dump(all_probs, open(all_probs_file, \"wb\"))\n",
    "pickle.dump(all_ys, open(all_ys_file, \"wb\"))\n",
    "pickle.dump(all_nks, open(all_nks_file, \"wb\"))"
   ]
  },
  {
   "cell_type": "code",
   "execution_count": 47,
   "metadata": {},
   "outputs": [],
   "source": [
    "# German Credit\n",
    "probs_file = '/home/dhasade/audits/ml-audits/data/german_credit/ma_all_nks.pkl'\n",
    "ts = 1000\n",
    "\n",
    "with open(probs_file, 'rb') as f:\n",
    "    ns = pickle.load(f)\n",
    "\n",
    "n = 5\n",
    "\n",
    "max_ns = [[] for _ in range(1, n+1)]\n",
    "\n",
    "for k in range(1, n+1):\n",
    "    possible_collaborators = list(range(n))\n",
    "    agent_combinations_list = list(combinations(possible_collaborators, k))\n",
    "\n",
    "    for agent_combination in agent_combinations_list:\n",
    "        agent_comb_str = ''.join([str(elem) for elem in agent_combination])\n",
    "        \n",
    "        base_agent = agent_combination[0]\n",
    "        rem_agents_str = agent_comb_str[1:]\n",
    "\n",
    "        ns_dict = ns[base_agent][k-1][rem_agents_str]\n",
    "        max_ns[k-1].append(get_max_value(ns_dict))\n",
    "\n",
    "max_ps = [[x/ts for x in max_ns[k]] for k in range(n)]\n",
    "\n",
    "# create data points from max ps\n",
    "xs2 = []; ys2 = []\n",
    "for k in range(n):\n",
    "    # sample a small number between 0 and 1\n",
    "    # to add some noise to the data points\n",
    "    noise = np.random.uniform(0, 0.2, len(max_ps[k]))\n",
    "    xs2.extend([k+1+noise[i] for i in range(len(max_ps[k]))])\n",
    "    ys2.extend([max_ps[k][i] for i in range(len(max_ps[k]))])"
   ]
  },
  {
   "cell_type": "code",
   "execution_count": 57,
   "metadata": {},
   "outputs": [],
   "source": [
    "# regression line y = 1/2x\n",
    "reg_xs = np.linspace(1, 5, 100)\n",
    "reg_ys = [1/(3.5*x) for x in reg_xs]"
   ]
  },
  {
   "cell_type": "code",
   "execution_count": 62,
   "metadata": {},
   "outputs": [],
   "source": [
    "s = 6\n",
    "params = {\n",
    "   'legend.fontsize': s,\n",
    "   'legend.title_fontsize': s,\n",
    "   'xtick.labelsize': 6,\n",
    "   'ytick.labelsize': 6,\n",
    "   'axes.labelsize': s+1,\n",
    "   'text.usetex': False,\n",
    "   # 'figure.figsize': [2.3, 1.3],\n",
    "   'figure.figsize': [2.4, 1.4],\n",
    "   'lines.linewidth': 1,\n",
    "   'lines.markersize': 3,\n",
    "   'axes.titlesize': s,\n",
    "   }\n",
    "\n",
    "# set rc params\n",
    "plt.rcParams.update(params)\n",
    "# no background for the legend\n",
    "plt.rc('legend', frameon=False)    # no background for the legend"
   ]
  },
  {
   "cell_type": "code",
   "execution_count": 65,
   "metadata": {},
   "outputs": [
    {
     "data": {
      "image/png": "[encoded data removed]",
      "text/plain": [
       "<Figure size 240x140 with 1 Axes>"
      ]
     },
     "metadata": {},
     "output_type": "display_data"
    }
   ],
   "source": [
    "plt.grid(True, which='both', linestyle='--', linewidth=0.5)\n",
    "plt.scatter(xs2, ys2)\n",
    "plt.plot(reg_xs, reg_ys, color='red')\n",
    "plt.xlabel('Number of agents')\n",
    "plt.ylabel('Relative size of \\n largest stratum')\n",
    "plt.title('German Credit')\n",
    "\n",
    "plot_name = 'gc_largest_stratum_ma.pdf'\n",
    "# plt.savefig(f'/home/dhasade/audits/ml-audits/results/ECAI/plots/{plot_name}', bbox_inches='tight', dpi=300)"
   ]
  },
  {
   "cell_type": "code",
   "execution_count": null,
   "metadata": {},
   "outputs": [],
   "source": []
  }
 ],
 "metadata": {
  "kernelspec": {
   "display_name": "audits",
   "language": "python",
   "name": "python3"
  },
  "language_info": {
   "codemirror_mode": {
    "name": "ipython",
    "version": 3
   },
   "file_extension": ".py",
   "mimetype": "text/x-python",
   "name": "python",
   "nbconvert_exporter": "python",
   "pygments_lexer": "ipython3",
   "version": "3.8.-1"
  }
 },
 "nbformat": 4,
 "nbformat_minor": 2
}
