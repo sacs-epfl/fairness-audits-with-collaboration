{
 "cells": [
  {
   "cell_type": "code",
   "execution_count": 1,
   "metadata": {},
   "outputs": [],
   "source": [
    "import numpy as np\n",
    "import pandas as pd\n",
    "import os\n",
    "import pickle\n",
    "from math import sqrt"
   ]
  },
  {
   "cell_type": "code",
   "execution_count": 18,
   "metadata": {},
   "outputs": [],
   "source": [
    "# root_dir = '/home/dhasade/audits/ml-audits/data/folktables'\n",
    "# protected_attributes = [\"SEX\", \"MAR\", \"AGEP\", \"NATIVITY\", \"MIG\"]\n",
    "\n",
    "root_dir = '/home/dhasade/audits/ml-audits/data/german_credit'\n",
    "protected_attributes = ['age', 'sex', 'marital_status', 'own_telephone', 'employment']"
   ]
  },
  {
   "cell_type": "code",
   "execution_count": 19,
   "metadata": {},
   "outputs": [],
   "source": [
    "# read all_ys pickle\n",
    "with open(os.path.join(root_dir, 'all_ys.pkl'), 'rb') as f:\n",
    "    all_ys = pickle.load(f)"
   ]
  },
  {
   "cell_type": "code",
   "execution_count": 19,
   "metadata": {},
   "outputs": [
    {
     "name": "stdout",
     "output_type": "stream",
     "text": [
      "age:\n",
      "p(y=1|attr=1) = 0.7283950617283951\n",
      "p(y=1|attr=0) = 0.5789473684210527\n",
      "sigma_attr1 = 0.44478724776918077\n",
      "sigma_attr0 = 0.49372797471825575\n",
      "sex:\n",
      "p(y=1|attr=1) = 0.7231884057971014\n",
      "p(y=1|attr=0) = 0.6483870967741936\n",
      "sigma_attr1 = 0.44742254694834993\n",
      "sigma_attr0 = 0.47747384170331897\n",
      "marital_status:\n",
      "p(y=1|attr=1) = 0.6592920353982301\n",
      "p(y=1|attr=0) = 0.7335766423357665\n",
      "sigma_attr1 = 0.4739473045167458\n",
      "sigma_attr0 = 0.4420881723764496\n",
      "own_telephone:\n",
      "p(y=1|attr=1) = 0.7202970297029703\n",
      "p(y=1|attr=0) = 0.6862416107382551\n",
      "sigma_attr1 = 0.4488532262377632\n",
      "sigma_attr0 = 0.4640194634168057\n",
      "employment:\n",
      "p(y=1|attr=1) = 0.7587822014051522\n",
      "p(y=1|attr=0) = 0.6561954624781849\n",
      "sigma_attr1 = 0.4278221268657142\n",
      "sigma_attr0 = 0.47497681785664647\n"
     ]
    }
   ],
   "source": [
    "for k in range(5):\n",
    "    p_y_given_0 = all_ys[k][0][''][''][0]\n",
    "    p_y_given_1 = all_ys[k][0][''][''][1]\n",
    "\n",
    "    print(f\"{protected_attributes[k]}:\")\n",
    "    print(f\"p(y=1|attr=1) = {p_y_given_1}\")\n",
    "    print(f\"p(y=1|attr=0) = {p_y_given_0}\")\n",
    "    \n",
    "    # compute sigma_attr0 and sigma_attr1\n",
    "    sigma_attr1 = sqrt(p_y_given_1 * (1 - p_y_given_1))\n",
    "    sigma_attr0 = sqrt(p_y_given_0 * (1 - p_y_given_0))\n",
    "    print(f\"sigma_attr1 = {sigma_attr1}\")\n",
    "    print(f\"sigma_attr0 = {sigma_attr0}\")\n",
    "    "
   ]
  },
  {
   "cell_type": "markdown",
   "metadata": {},
   "source": [
    "## Code for getting N_k"
   ]
  },
  {
   "cell_type": "code",
   "execution_count": 20,
   "metadata": {},
   "outputs": [],
   "source": [
    "# read all_nks pickle\n",
    "with open(os.path.join(root_dir, 'all_nks.pkl'), 'rb') as f:\n",
    "    all_nks = pickle.load(f)\n",
    "\n",
    "# read all_ys pickle\n",
    "with open(os.path.join(root_dir, 'all_ys.pkl'), 'rb') as f:\n",
    "    all_ys = pickle.load(f)"
   ]
  },
  {
   "cell_type": "code",
   "execution_count": 21,
   "metadata": {},
   "outputs": [],
   "source": [
    "db = all_nks[0][4]['1234']\n",
    "db_y = all_ys[0][4]['1234']"
   ]
  },
  {
   "cell_type": "code",
   "execution_count": 22,
   "metadata": {},
   "outputs": [
    {
     "name": "stdout",
     "output_type": "stream",
     "text": [
      "attribute_values,N_k,P_y_given_Sk\n",
      "00000,0,nan\n",
      "10000,0,nan\n",
      "00001,0,nan\n",
      "10001,0,nan\n",
      "00010,0,nan\n",
      "10010,0,nan\n",
      "00011,0,nan\n",
      "10011,0,nan\n",
      "00100,61,0.4590\n",
      "10100,88,0.6818\n",
      "00101,18,0.8333\n",
      "10101,35,0.7143\n",
      "00110,20,0.5000\n",
      "10110,47,0.6383\n",
      "00111,6,0.8333\n",
      "10111,35,0.8000\n",
      "01000,29,0.6897\n",
      "11000,125,0.7280\n",
      "01001,12,0.5000\n",
      "11001,141,0.7447\n",
      "01010,8,0.5000\n",
      "11010,97,0.7010\n",
      "01011,7,0.5714\n",
      "11011,129,0.8062\n",
      "01100,19,0.7368\n",
      "11100,44,0.6136\n",
      "01101,6,0.5000\n",
      "11101,18,0.8333\n",
      "01110,4,0.2500\n",
      "11110,31,0.7419\n",
      "01111,0,nan\n",
      "11111,20,0.7000\n"
     ]
    }
   ],
   "source": [
    "vs = []\n",
    "for i, k in enumerate(db.keys()):\n",
    "    if i == 0:\n",
    "        # print header\n",
    "        print(\"attribute_values,N_k,P_y_given_Sk\")\n",
    "    print(f\"0{k},{db[k][0]},{db_y[k][0]:.4f}\")\n",
    "    print(f\"1{k},{db[k][1]},{db_y[k][1]:.4f}\")\n",
    "    \n",
    "    vs.append(db[k][0])\n",
    "    vs.append(db[k][1])"
   ]
  },
  {
   "cell_type": "code",
   "execution_count": 7,
   "metadata": {},
   "outputs": [
    {
     "data": {
      "text/plain": [
       "5916565"
      ]
     },
     "execution_count": 7,
     "metadata": {},
     "output_type": "execute_result"
    }
   ],
   "source": [
    "sum(vs)"
   ]
  },
  {
   "cell_type": "code",
   "execution_count": 2,
   "metadata": {},
   "outputs": [],
   "source": [
    "pb_raw_path = '/home/dhasade/audits/ml-audits/data/propublica/propublica_raw.csv'\n",
    "df = pd.read_csv(pb_raw_path)"
   ]
  },
  {
   "cell_type": "code",
   "execution_count": 3,
   "metadata": {},
   "outputs": [
    {
     "data": {
      "text/plain": [
       "3.2464355152300715"
      ]
     },
     "execution_count": 3,
     "metadata": {},
     "output_type": "execute_result"
    }
   ],
   "source": [
    "df['Number_of_Priors'].mean()"
   ]
  },
  {
   "cell_type": "code",
   "execution_count": 5,
   "metadata": {},
   "outputs": [
    {
     "data": {
      "text/plain": [
       "(array([4.361e+03, 9.580e+02, 4.370e+02, 2.040e+02, 7.700e+01, 7.900e+01,\n",
       "        3.500e+01, 1.400e+01, 4.000e+00, 3.000e+00]),\n",
       " array([ 0. ,  3.8,  7.6, 11.4, 15.2, 19. , 22.8, 26.6, 30.4, 34.2, 38. ]),\n",
       " <BarContainer object of 10 artists>)"
      ]
     },
     "execution_count": 5,
     "metadata": {},
     "output_type": "execute_result"
    },
    {
     "data": {
      "image/png": "[encoded data removed]",
      "text/plain": [
       "<Figure size 640x480 with 1 Axes>"
      ]
     },
     "metadata": {},
     "output_type": "display_data"
    }
   ],
   "source": [
    "# Plot histogram of number of priors\n",
    "import matplotlib.pyplot as plt\n",
    "plt.hist(df['Number_of_Priors'])"
   ]
  },
  {
   "cell_type": "code",
   "execution_count": null,
   "metadata": {},
   "outputs": [],
   "source": []
  }
 ],
 "metadata": {
  "kernelspec": {
   "display_name": "audits",
   "language": "python",
   "name": "python3"
  },
  "language_info": {
   "codemirror_mode": {
    "name": "ipython",
    "version": 3
   },
   "file_extension": ".py",
   "mimetype": "text/x-python",
   "name": "python",
   "nbconvert_exporter": "python",
   "pygments_lexer": "ipython3",
   "version": "3.8.17"
  }
 },
 "nbformat": 4,
 "nbformat_minor": 2
}
