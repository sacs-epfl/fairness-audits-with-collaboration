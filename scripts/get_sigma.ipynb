{
 "cells": [
  {
   "cell_type": "code",
   "execution_count": 13,
   "metadata": {},
   "outputs": [],
   "source": [
    "import numpy as np\n",
    "import pandas as pd\n",
    "import os\n",
    "import pickle\n",
    "from math import sqrt"
   ]
  },
  {
   "cell_type": "code",
   "execution_count": 16,
   "metadata": {},
   "outputs": [],
   "source": [
    "# root_dir = '/home/dhasade/audits/ml-audits/data/folktables'\n",
    "# protected_attributes = [\"SEX\", \"MAR\", \"AGEP\", \"NATIVITY\", \"MIG\"]\n",
    "\n",
    "root_dir = '/home/dhasade/audits/ml-audits/data/german_credit'\n",
    "protected_attributes = ['age', 'sex', 'marital_status', 'own_telephone', 'employment']"
   ]
  },
  {
   "cell_type": "code",
   "execution_count": 17,
   "metadata": {},
   "outputs": [],
   "source": [
    "# read all_ys pickle\n",
    "with open(os.path.join(root_dir, 'all_ys.pkl'), 'rb') as f:\n",
    "    all_ys = pickle.load(f)"
   ]
  },
  {
   "cell_type": "code",
   "execution_count": 19,
   "metadata": {},
   "outputs": [
    {
     "name": "stdout",
     "output_type": "stream",
     "text": [
      "age:\n",
      "p(y=1|attr=1) = 0.7283950617283951\n",
      "p(y=1|attr=0) = 0.5789473684210527\n",
      "sigma_attr1 = 0.44478724776918077\n",
      "sigma_attr0 = 0.49372797471825575\n",
      "sex:\n",
      "p(y=1|attr=1) = 0.7231884057971014\n",
      "p(y=1|attr=0) = 0.6483870967741936\n",
      "sigma_attr1 = 0.44742254694834993\n",
      "sigma_attr0 = 0.47747384170331897\n",
      "marital_status:\n",
      "p(y=1|attr=1) = 0.6592920353982301\n",
      "p(y=1|attr=0) = 0.7335766423357665\n",
      "sigma_attr1 = 0.4739473045167458\n",
      "sigma_attr0 = 0.4420881723764496\n",
      "own_telephone:\n",
      "p(y=1|attr=1) = 0.7202970297029703\n",
      "p(y=1|attr=0) = 0.6862416107382551\n",
      "sigma_attr1 = 0.4488532262377632\n",
      "sigma_attr0 = 0.4640194634168057\n",
      "employment:\n",
      "p(y=1|attr=1) = 0.7587822014051522\n",
      "p(y=1|attr=0) = 0.6561954624781849\n",
      "sigma_attr1 = 0.4278221268657142\n",
      "sigma_attr0 = 0.47497681785664647\n"
     ]
    }
   ],
   "source": [
    "for k in range(5):\n",
    "    p_y_given_0 = all_ys[k][0][''][''][0]\n",
    "    p_y_given_1 = all_ys[k][0][''][''][1]\n",
    "\n",
    "    print(f\"{protected_attributes[k]}:\")\n",
    "    print(f\"p(y=1|attr=1) = {p_y_given_1}\")\n",
    "    print(f\"p(y=1|attr=0) = {p_y_given_0}\")\n",
    "    \n",
    "    # compute sigma_attr0 and sigma_attr1\n",
    "    sigma_attr1 = sqrt(p_y_given_1 * (1 - p_y_given_1))\n",
    "    sigma_attr0 = sqrt(p_y_given_0 * (1 - p_y_given_0))\n",
    "    print(f\"sigma_attr1 = {sigma_attr1}\")\n",
    "    print(f\"sigma_attr0 = {sigma_attr0}\")\n",
    "    "
   ]
  },
  {
   "cell_type": "code",
   "execution_count": null,
   "metadata": {},
   "outputs": [],
   "source": []
  }
 ],
 "metadata": {
  "kernelspec": {
   "display_name": "audits",
   "language": "python",
   "name": "python3"
  },
  "language_info": {
   "codemirror_mode": {
    "name": "ipython",
    "version": 3
   },
   "file_extension": ".py",
   "mimetype": "text/x-python",
   "name": "python",
   "nbconvert_exporter": "python",
   "pygments_lexer": "ipython3",
   "version": "3.8.17"
  }
 },
 "nbformat": 4,
 "nbformat_minor": 2
}
