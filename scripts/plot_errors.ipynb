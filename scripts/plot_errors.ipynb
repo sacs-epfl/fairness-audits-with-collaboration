{
 "cells": [
  {
   "cell_type": "code",
   "execution_count": 21,
   "metadata": {},
   "outputs": [],
   "source": [
    "import matplotlib.pyplot as plt\n",
    "import numpy as np\n",
    "import pandas as pd\n",
    "import os"
   ]
  },
  {
   "cell_type": "code",
   "execution_count": 15,
   "metadata": {},
   "outputs": [],
   "source": [
    "# root_file = '/home/dhasade/audits/ml-audits/results/german_credit/merged_german_credit_stratified_n2.csv'\n",
    "# root_file = '/home/dhasade/audits/ml-audits/results/propublica/merged_propublica_stratified_n2.csv'\n",
    "# root_file = '/home/dhasade/audits/ml-audits/results/folktables/merged_folktables_stratified_n2.csv'\n",
    "\n",
    "# root_file = '/home/dhasade/audits/ml-audits/results/german_credit/merged_german_credit_neyman_n5.csv'\n",
    "root_file = '/home/dhasade/audits/ml-audits/results/german_credit/merged_german_credit_stratified_n5.csv'"
   ]
  },
  {
   "cell_type": "code",
   "execution_count": 3,
   "metadata": {},
   "outputs": [],
   "source": [
    "df = pd.read_csv(root_file)"
   ]
  },
  {
   "cell_type": "code",
   "execution_count": 22,
   "metadata": {},
   "outputs": [],
   "source": [
    "collaboration_map = {\n",
    "    'none': 'No Collab.',\n",
    "    'apriori (unbiased)': 'Apriori',\n",
    "    'apriori': 'Apriori',\n",
    "    'aposteriori' : 'Aposteriori'\n",
    "}"
   ]
  },
  {
   "cell_type": "code",
   "execution_count": 5,
   "metadata": {},
   "outputs": [],
   "source": [
    "aggregated_df = df.groupby(['budget', 'dataset', 'collaboration', 'sample', 'agent', 'attribute'])['dp_error'].mean().reset_index()\n",
    "\n",
    "# get separate dataframes for each agent\n",
    "agent0_df = aggregated_df[aggregated_df['agent'] == 0] # age\n",
    "agent1_df = aggregated_df[aggregated_df['agent'] == 1] # sex"
   ]
  },
  {
   "cell_type": "code",
   "execution_count": 6,
   "metadata": {},
   "outputs": [
    {
     "data": {
      "text/html": [
       "<div>\n",
       "<style scoped>\n",
       "    .dataframe tbody tr th:only-of-type {\n",
       "        vertical-align: middle;\n",
       "    }\n",
       "\n",
       "    .dataframe tbody tr th {\n",
       "        vertical-align: top;\n",
       "    }\n",
       "\n",
       "    .dataframe thead th {\n",
       "        text-align: right;\n",
       "    }\n",
       "</style>\n",
       "<table border=\"1\" class=\"dataframe\">\n",
       "  <thead>\n",
       "    <tr style=\"text-align: right;\">\n",
       "      <th></th>\n",
       "      <th>budget</th>\n",
       "      <th>dataset</th>\n",
       "      <th>collaboration</th>\n",
       "      <th>sample</th>\n",
       "      <th>agent</th>\n",
       "      <th>attribute</th>\n",
       "      <th>dp_error</th>\n",
       "    </tr>\n",
       "  </thead>\n",
       "  <tbody>\n",
       "    <tr>\n",
       "      <th>0</th>\n",
       "      <td>50</td>\n",
       "      <td>german_credit</td>\n",
       "      <td>aposteriori</td>\n",
       "      <td>stratified</td>\n",
       "      <td>0</td>\n",
       "      <td>age</td>\n",
       "      <td>0.053797</td>\n",
       "    </tr>\n",
       "    <tr>\n",
       "      <th>1</th>\n",
       "      <td>50</td>\n",
       "      <td>german_credit</td>\n",
       "      <td>aposteriori</td>\n",
       "      <td>stratified</td>\n",
       "      <td>1</td>\n",
       "      <td>sex</td>\n",
       "      <td>0.040924</td>\n",
       "    </tr>\n",
       "    <tr>\n",
       "      <th>2</th>\n",
       "      <td>50</td>\n",
       "      <td>german_credit</td>\n",
       "      <td>aposteriori</td>\n",
       "      <td>stratified</td>\n",
       "      <td>2</td>\n",
       "      <td>marital_status</td>\n",
       "      <td>0.039118</td>\n",
       "    </tr>\n",
       "    <tr>\n",
       "      <th>3</th>\n",
       "      <td>50</td>\n",
       "      <td>german_credit</td>\n",
       "      <td>aposteriori</td>\n",
       "      <td>stratified</td>\n",
       "      <td>3</td>\n",
       "      <td>own_telephone</td>\n",
       "      <td>0.031995</td>\n",
       "    </tr>\n",
       "    <tr>\n",
       "      <th>4</th>\n",
       "      <td>50</td>\n",
       "      <td>german_credit</td>\n",
       "      <td>aposteriori</td>\n",
       "      <td>stratified</td>\n",
       "      <td>4</td>\n",
       "      <td>employment</td>\n",
       "      <td>0.045922</td>\n",
       "    </tr>\n",
       "  </tbody>\n",
       "</table>\n",
       "</div>"
      ],
      "text/plain": [
       "   budget        dataset collaboration      sample  agent       attribute  \\\n",
       "0      50  german_credit   aposteriori  stratified      0             age   \n",
       "1      50  german_credit   aposteriori  stratified      1             sex   \n",
       "2      50  german_credit   aposteriori  stratified      2  marital_status   \n",
       "3      50  german_credit   aposteriori  stratified      3   own_telephone   \n",
       "4      50  german_credit   aposteriori  stratified      4      employment   \n",
       "\n",
       "   dp_error  \n",
       "0  0.053797  \n",
       "1  0.040924  \n",
       "2  0.039118  \n",
       "3  0.031995  \n",
       "4  0.045922  "
      ]
     },
     "execution_count": 6,
     "metadata": {},
     "output_type": "execute_result"
    }
   ],
   "source": [
    "aggregated_df.head()"
   ]
  },
  {
   "cell_type": "code",
   "execution_count": 7,
   "metadata": {},
   "outputs": [],
   "source": [
    "s = 7\n",
    "params = {\n",
    "   'legend.fontsize': s,\n",
    "   'xtick.labelsize': 6,\n",
    "   'ytick.labelsize': 6,\n",
    "   'axes.labelsize': s,\n",
    "   'text.usetex': False,\n",
    "   # 'figure.figsize': [1.3, 1.1],\n",
    "   'figure.figsize': [3.2, 1.1],\n",
    "   'lines.linewidth': 1,\n",
    "   'lines.markersize': 3,\n",
    "   'axes.titlesize': s,\n",
    "   }\n",
    "\n",
    "# set rc params\n",
    "plt.rcParams.update(params)\n"
   ]
  },
  {
   "cell_type": "code",
   "execution_count": 74,
   "metadata": {},
   "outputs": [
    {
     "data": {
      "image/png": "[encoded data removed]",
      "text/plain": [
       "<Figure size 320x110 with 1 Axes>"
      ]
     },
     "metadata": {},
     "output_type": "display_data"
    }
   ],
   "source": [
    "# Plot separately for each agent\n",
    "# Agent 0: Age\n",
    "\n",
    "# Plot budget vs. error, grouped by collaboration column\n",
    "for collaboration, group in agent0_df.groupby('collaboration'):\n",
    "    plt.plot(group['budget'], group['dp_error'], label=collaboration_map[collaboration], marker='o')\n",
    "\n",
    "plt.ylabel('DP Error')\n",
    "plt.xlabel('Budget')\n",
    "# plt.legend()\n",
    "\n",
    "# save plot to file\n",
    "plot_name = 'gc_agent0_AGE_dp_error_vs_budget.pdf'\n",
    "# plt.savefig(f'../results/plots/{plot_name}', bbox_inches='tight', dpi=300)\n"
   ]
  },
  {
   "cell_type": "code",
   "execution_count": 75,
   "metadata": {},
   "outputs": [
    {
     "data": {
      "image/png": "[encoded data removed]",
      "text/plain": [
       "<Figure size 320x110 with 2 Axes>"
      ]
     },
     "metadata": {},
     "output_type": "display_data"
    }
   ],
   "source": [
    "# plot for each agent side-by-side\n",
    "fig, (ax1, ax2) = plt.subplots(1, 2)\n",
    "\n",
    "# no background for the legend\n",
    "plt.rc('legend', frameon=False)    # no background for the legend\n",
    "\n",
    "# Plot budget vs. error, grouped by collaboration column\n",
    "for collaboration, group in agent0_df.groupby('collaboration'):\n",
    "    ax1.plot(group['budget'], group['dp_error'], label=collaboration_map[collaboration], marker='o')\n",
    "\n",
    "    ax1.set_ylabel('DP Error')\n",
    "    ax1.set_xlabel('Budget')\n",
    "    \n",
    "    # ax1.set_title('Age')\n",
    "    ax1.set_title('Sex')\n",
    "\n",
    "    # # set xticks at 250, 500, 750, 1000\n",
    "    # ax1.set_xticks([250, 500, 750, 1000])\n",
    "\n",
    "    # ax1.legend()\n",
    "\n",
    "# Plot budget vs. error, grouped by collaboration column\n",
    "for collaboration, group in agent1_df.groupby('collaboration'):\n",
    "    ax2.plot(group['budget'], group['dp_error'], label=collaboration_map[collaboration], marker='o')\n",
    "\n",
    "    # ax2.set_ylabel('DP Error')\n",
    "    ax2.set_xlabel('Budget')\n",
    "    \n",
    "    # ax2.set_title('Sex')\n",
    "    # ax2.set_title('African-American')\n",
    "    ax2.set_title('Marital Status')\n",
    "    \n",
    "    # ax2.legend()\n",
    "\n",
    "    # # set xticks at 250, 500, 750\n",
    "    # ax2.set_xticks([250, 500, 750])\n",
    "\n",
    "\n",
    "# set legend location outside, at the top of the plot with 2 columns\n",
    "# ax2.legend(bbox_to_anchor=(1.1, 1.5), loc='upper right', ncol=3)\n",
    "\n",
    "# add space between subplots\n",
    "plt.subplots_adjust(wspace=0.4)\n",
    "\n",
    "# save plot to file\n",
    "# plot_name = 'gc_dp_error_vs_budget.pdf'\n",
    "# plot_name = 'propublica_dp_error_vs_budget.pdf'\n",
    "plot_name = 'folktables_dp_error_vs_budget.pdf'\n",
    "# plt.savefig(f'../results/plots/{plot_name}', bbox_inches='tight', dpi=300)"
   ]
  },
  {
   "cell_type": "code",
   "execution_count": 11,
   "metadata": {},
   "outputs": [],
   "source": [
    "# save the csv\n",
    "# aggregated_df.to_csv('../results/plots_data/gc_2agents.csv', index=False)\n",
    "# aggregated_df.to_csv('../results/plots_data/pp_2agents.csv', index=False)\n",
    "# aggregated_df.to_csv('../results/plots_data/ft_2agents.csv', index=False)"
   ]
  },
  {
   "cell_type": "code",
   "execution_count": 7,
   "metadata": {},
   "outputs": [],
   "source": [
    "# sum the values for each agent\n",
    "new_aggregated_df = aggregated_df.groupby(['budget', 'dataset', 'collaboration', 'sample'])['dp_error'].sum().reset_index()"
   ]
  },
  {
   "cell_type": "code",
   "execution_count": 8,
   "metadata": {},
   "outputs": [],
   "source": [
    "s = 7\n",
    "params = {\n",
    "   'legend.fontsize': s,\n",
    "   'xtick.labelsize': 6,\n",
    "   'ytick.labelsize': 6,\n",
    "   'axes.labelsize': s,\n",
    "   'text.usetex': False,\n",
    "   'figure.figsize': [2.3, 1.3],\n",
    "#    'figure.figsize': [3.2, 1.1],\n",
    "   'lines.linewidth': 1,\n",
    "   'lines.markersize': 3,\n",
    "   'axes.titlesize': s,\n",
    "   }\n",
    "\n",
    "# set rc params\n",
    "plt.rcParams.update(params)\n",
    "# no background for the legend\n",
    "plt.rc('legend', frameon=False)    # no background for the legend\n"
   ]
  },
  {
   "cell_type": "code",
   "execution_count": 9,
   "metadata": {},
   "outputs": [
    {
     "data": {
      "image/png": "[encoded data removed]",
      "text/plain": [
       "<Figure size 230x130 with 1 Axes>"
      ]
     },
     "metadata": {},
     "output_type": "display_data"
    }
   ],
   "source": [
    "# Plot budget vs. error, grouped by collaboration column\n",
    "for collaboration, group in new_aggregated_df.groupby('collaboration'):\n",
    "    plt.plot(group['budget'], group['dp_error'], label=collaboration_map[collaboration], marker='o')\n",
    "\n",
    "plt.ylabel('Cum. DP Error')\n",
    "plt.xlabel('Budget')\n",
    "plt.legend()\n",
    "\n",
    "# plot_name = 'ft_cum_dp_error_vs_budget.pdf'\n",
    "# plot_name = 'pp_cum_dp_error_vs_budget.pdf'\n",
    "# plot_name = 'gc_neyman_cum_dp_error_vs_budget.pdf'\n",
    "plot_name = 'gc_stratified_cum_dp_error_vs_budget.pdf'\n",
    "# plt.savefig(f'../results/plots/{plot_name}', bbox_inches='tight', dpi=300)"
   ]
  },
  {
   "cell_type": "code",
   "execution_count": 1,
   "metadata": {},
   "outputs": [],
   "source": [
    "from typing import List, Dict, Tuple"
   ]
  },
  {
   "cell_type": "markdown",
   "metadata": {},
   "source": [
    "## Plotting apriori results"
   ]
  },
  {
   "cell_type": "code",
   "execution_count": 41,
   "metadata": {},
   "outputs": [],
   "source": [
    "n = 2\n",
    "apriori_neyman_dir = f'/home/dhasade/audits/ml-audits/results/german_credit/merged_german_credit_neyman_n{n}.csv'\n",
    "apriori_stratified_dir = f'/home/dhasade/audits/ml-audits/results/german_credit/merged_german_credit_stratified_n{n}.csv'"
   ]
  },
  {
   "cell_type": "code",
   "execution_count": 42,
   "metadata": {},
   "outputs": [],
   "source": [
    "df_neyman = pd.read_csv(apriori_neyman_dir)\n",
    "df_stratified = pd.read_csv(apriori_stratified_dir)"
   ]
  },
  {
   "cell_type": "code",
   "execution_count": 43,
   "metadata": {},
   "outputs": [],
   "source": [
    "aggregated_df_neyman = df_neyman.groupby(['budget', 'dataset', 'collaboration', 'sample', 'agent', 'attribute'])['dp_error'].mean().reset_index()\n",
    "aggregated_df_stratified = df_stratified.groupby(['budget', 'dataset', 'collaboration', 'sample', 'agent', 'attribute'])['dp_error'].mean().reset_index()"
   ]
  },
  {
   "cell_type": "code",
   "execution_count": 44,
   "metadata": {},
   "outputs": [],
   "source": [
    "# sum the values for each agent\n",
    "new_aggregated_df_neyman = aggregated_df_neyman.groupby(['budget', 'dataset', 'collaboration', 'sample'])['dp_error'].sum().reset_index()\n",
    "new_aggregated_df_stratified = aggregated_df_stratified.groupby(['budget', 'dataset', 'collaboration', 'sample'])['dp_error'].sum().reset_index()"
   ]
  },
  {
   "cell_type": "code",
   "execution_count": 45,
   "metadata": {},
   "outputs": [],
   "source": [
    "s = 7\n",
    "params = {\n",
    "   'legend.fontsize': s,\n",
    "   'xtick.labelsize': 6,\n",
    "   'ytick.labelsize': 6,\n",
    "   'axes.labelsize': s,\n",
    "   'text.usetex': False,\n",
    "   'figure.figsize': [2.3, 1.3],\n",
    "#    'figure.figsize': [3.2, 1.1],\n",
    "   'lines.linewidth': 1,\n",
    "   'lines.markersize': 3,\n",
    "   'axes.titlesize': s,\n",
    "   }\n",
    "\n",
    "# set rc params\n",
    "plt.rcParams.update(params)\n",
    "# no background for the legend\n",
    "plt.rc('legend', frameon=False)    # no background for the legend"
   ]
  },
  {
   "cell_type": "code",
   "execution_count": 47,
   "metadata": {},
   "outputs": [
    {
     "data": {
      "image/png": "[encoded data removed]",
      "text/plain": [
       "<Figure size 230x130 with 1 Axes>"
      ]
     },
     "metadata": {},
     "output_type": "display_data"
    }
   ],
   "source": [
    "# Plot budget vs. error for each strategy at collaboration = apriori\n",
    "for collab, group in new_aggregated_df_neyman.groupby('collaboration'):\n",
    "    if collab == 'apriori (unbiased)':\n",
    "        plt.plot(group['budget'], group['dp_error'], label='neyman', marker='o')\n",
    "\n",
    "for collab, group in new_aggregated_df_stratified.groupby('collaboration'):\n",
    "    if collab == 'apriori (unbiased)':\n",
    "        plt.plot(group['budget'], group['dp_error'], label='stratified', marker='o')\n",
    "\n",
    "plt.ylabel('Cum. DP Error')\n",
    "plt.xlabel('Budget')\n",
    "plt.title(f'Apriori n={n}')\n",
    "plt.legend()\n",
    "\n",
    "plot_name = f'gc_apriori_n{n}_cum_dp_error_vs_budget.pdf'\n",
    "# plt.savefig(f'../results/plots/{plot_name}', bbox_inches='tight', dpi=300)"
   ]
  },
  {
   "cell_type": "code",
   "execution_count": 10,
   "metadata": {},
   "outputs": [],
   "source": [
    "# propublica\n",
    "\n",
    "# uniform\n",
    "uniform_dir = f'/home/dhasade/audits/ml-audits/results/propublica/merged_propublica_uniform_n2.csv'\n",
    "uniform_df = pd.read_csv(uniform_dir)\n",
    "\n",
    "# stratified\n",
    "stratified_dir = f'/home/dhasade/audits/ml-audits/results/propublica/merged_propublica_stratified_n2.csv'\n",
    "stratified_df = pd.read_csv(stratified_dir)\n",
    "\n",
    "# neyman\n",
    "neyman_dir = f'/home/dhasade/audits/ml-audits/results/propublica/merged_propublica_neyman_n2.csv'\n",
    "neyman_df = pd.read_csv(neyman_dir)"
   ]
  },
  {
   "cell_type": "code",
   "execution_count": 36,
   "metadata": {},
   "outputs": [],
   "source": [
    "# german_credit\n",
    "\n",
    "# uniform\n",
    "uniform_dir = f'/home/dhasade/audits/ml-audits/results/german_credit/merged_german_credit_uniform_n2.csv'\n",
    "uniform_df = pd.read_csv(uniform_dir)\n",
    "\n",
    "# stratified\n",
    "stratified_dir = f'/home/dhasade/audits/ml-audits/results/german_credit/merged_german_credit_stratified_n2.csv'\n",
    "stratified_df = pd.read_csv(stratified_dir)\n",
    "\n",
    "# neyman\n",
    "neyman_dir = f'/home/dhasade/audits/ml-audits/results/german_credit/merged_german_credit_neyman_n2.csv'\n",
    "neyman_df = pd.read_csv(neyman_dir)"
   ]
  },
  {
   "cell_type": "code",
   "execution_count": 18,
   "metadata": {},
   "outputs": [],
   "source": [
    "# folktables\n",
    "\n",
    "# uniform\n",
    "uniform_dir = f'/home/dhasade/audits/ml-audits/results/folktables/merged_folktables_uniform_n2.csv'\n",
    "uniform_df = pd.read_csv(uniform_dir)\n",
    "\n",
    "# stratified\n",
    "stratified_dir = f'/home/dhasade/audits/ml-audits/results/folktables/merged_folktables_stratified_n2.csv'\n",
    "stratified_df = pd.read_csv(stratified_dir)\n",
    "\n",
    "# neyman\n",
    "neyman_dir = f'/home/dhasade/audits/ml-audits/results/folktables/merged_folktables_neyman_n2.csv'\n",
    "neyman_df = pd.read_csv(neyman_dir)"
   ]
  },
  {
   "cell_type": "code",
   "execution_count": 37,
   "metadata": {},
   "outputs": [],
   "source": [
    "aggregated_df_uniform = uniform_df.groupby(['budget', 'dataset', 'collaboration', 'sample', 'agent', 'attribute'])['dp_error'].mean().reset_index()\n",
    "# sum the values for each agent\n",
    "new_aggregated_df_uniform = aggregated_df_uniform.groupby(['budget', 'dataset', 'collaboration', 'sample'])['dp_error'].sum().reset_index()"
   ]
  },
  {
   "cell_type": "code",
   "execution_count": 38,
   "metadata": {},
   "outputs": [],
   "source": [
    "aggregated_df_stratified = stratified_df.groupby(['budget', 'dataset', 'collaboration', 'sample', 'agent', 'attribute'])['dp_error'].mean().reset_index()\n",
    "# sum the values for each agent\n",
    "new_aggregated_df_stratified = aggregated_df_stratified.groupby(['budget', 'dataset', 'collaboration', 'sample'])['dp_error'].sum().reset_index()"
   ]
  },
  {
   "cell_type": "code",
   "execution_count": 39,
   "metadata": {},
   "outputs": [],
   "source": [
    "aggregated_df_neyman = neyman_df.groupby(['budget', 'dataset', 'collaboration', 'sample', 'agent', 'attribute'])['dp_error'].mean().reset_index()\n",
    "# sum the values for each agent\n",
    "new_aggregated_df_neyman = aggregated_df_neyman.groupby(['budget', 'dataset', 'collaboration', 'sample'])['dp_error'].sum().reset_index()"
   ]
  },
  {
   "cell_type": "code",
   "execution_count": 33,
   "metadata": {},
   "outputs": [],
   "source": [
    "# save the csv for gc\n",
    "# new_aggregated_df_uniform.to_csv('../results/plots_data/gc_uniform_budget_vs_cum_error.csv', index=False)\n",
    "# new_aggregated_df_stratified.to_csv('../results/plots_data/gc_stratified_budget_vs_cum_error.csv', index=False)\n",
    "# new_aggregated_df_neyman.to_csv('../results/plots_data/gc_neyman_budget_vs_cum_error.csv', index=False)\n",
    "\n",
    "# save the csv for pp\n",
    "# new_aggregated_df_uniform.to_csv('../results/plots_data/pp_uniform_budget_vs_cum_error.csv', index=False)\n",
    "# new_aggregated_df_stratified.to_csv('../results/plots_data/pp_stratified_budget_vs_cum_error.csv', index=False)\n",
    "# new_aggregated_df_neyman.to_csv('../results/plots_data/pp_neyman_budget_vs_cum_error.csv', index=False)\n",
    "\n",
    "# save the csv for ft\n",
    "# new_aggregated_df_uniform.to_csv('../results/plots_data/ft_uniform_budget_vs_cum_error.csv', index=False)\n",
    "# new_aggregated_df_stratified.to_csv('../results/plots_data/ft_stratified_budget_vs_cum_error.csv', index=False)\n",
    "# new_aggregated_df_neyman.to_csv('../results/plots_data/ft_neyman_budget_vs_cum_error.csv', index=False)"
   ]
  },
  {
   "cell_type": "code",
   "execution_count": 40,
   "metadata": {},
   "outputs": [],
   "source": [
    "s = 7\n",
    "params = {\n",
    "   'legend.fontsize': s,\n",
    "   'xtick.labelsize': 6,\n",
    "   'ytick.labelsize': 6,\n",
    "   'axes.labelsize': s,\n",
    "   'text.usetex': False,\n",
    "   'figure.figsize': [7, 1.2],\n",
    "#    'figure.figsize': [3.2, 1.1],\n",
    "   'lines.linewidth': 1,\n",
    "   'lines.markersize': 3,\n",
    "   'axes.titlesize': s,\n",
    "   }\n",
    "\n",
    "# set rc params\n",
    "plt.rcParams.update(params)\n",
    "# no background for the legend\n",
    "plt.rc('legend', frameon=False)    # no background for the legend"
   ]
  },
  {
   "cell_type": "code",
   "execution_count": 41,
   "metadata": {},
   "outputs": [
    {
     "data": {
      "image/png": "[encoded data removed]",
      "text/plain": [
       "<Figure size 700x120 with 3 Axes>"
      ]
     },
     "metadata": {},
     "output_type": "display_data"
    }
   ],
   "source": [
    "# 1 x 3 subplots\n",
    "fig, (ax1, ax2, ax3) = plt.subplots(1, 3)\n",
    "\n",
    "# plot budget vs. error for uniform for each collaboration\n",
    "for collab, group in new_aggregated_df_uniform.groupby('collaboration'):\n",
    "    ax1.plot(group['budget'], group['dp_error'], label=collaboration_map[collab], marker='o')\n",
    "\n",
    "ax1.set_ylabel('Cum. DP Error')\n",
    "ax1.set_xlabel('Budget')\n",
    "# ax1.set_title('Uniform')\n",
    "\n",
    "# plot budget vs. error for stratified for each collaboration\n",
    "for collab, group in new_aggregated_df_stratified.groupby('collaboration'):\n",
    "    ax2.plot(group['budget'], group['dp_error'], label=collaboration_map[collab], marker='o')\n",
    "\n",
    "ax2.set_xlabel('Budget')\n",
    "# ax2.set_title('Stratified')\n",
    "\n",
    "# plot budget vs. error for neyman for each collaboration\n",
    "for collab, group in new_aggregated_df_neyman.groupby('collaboration'):\n",
    "    ax3.plot(group['budget'], group['dp_error'], label=collaboration_map[collab], marker='o')\n",
    "\n",
    "ax3.set_xlabel('Budget')\n",
    "# ax3.set_title('Neyman')\n",
    "\n",
    "# set legend location outside, at the top of the plot with 2 columns\n",
    "# ax3.legend(bbox_to_anchor=(0, 1.5), loc='upper right', ncol=3)\n",
    "\n",
    "# add space between subplots\n",
    "plt.subplots_adjust(wspace=0.3)\n",
    "\n",
    "# save plot to file\n",
    "# plot_name = 'pp_cum_dp_error_vs_budget.pdf'\n",
    "# plot_name = 'gc_cum_dp_error_vs_budget.pdf'\n",
    "plot_name = 'ft_cum_dp_error_vs_budget.pdf'\n",
    "# plt.savefig(f'../results/plots/{plot_name}', bbox_inches='tight', dpi=300)"
   ]
  },
  {
   "cell_type": "code",
   "execution_count": null,
   "metadata": {},
   "outputs": [],
   "source": []
  },
  {
   "cell_type": "code",
   "execution_count": null,
   "metadata": {},
   "outputs": [],
   "source": []
  }
 ],
 "metadata": {
  "kernelspec": {
   "display_name": "audits",
   "language": "python",
   "name": "python3"
  },
  "language_info": {
   "codemirror_mode": {
    "name": "ipython",
    "version": 3
   },
   "file_extension": ".py",
   "mimetype": "text/x-python",
   "name": "python",
   "nbconvert_exporter": "python",
   "pygments_lexer": "ipython3",
   "version": "3.8.17"
  }
 },
 "nbformat": 4,
 "nbformat_minor": 2
}
