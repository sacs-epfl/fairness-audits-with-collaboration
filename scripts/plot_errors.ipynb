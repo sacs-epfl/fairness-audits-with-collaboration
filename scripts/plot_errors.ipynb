{
 "cells": [
  {
   "cell_type": "code",
   "execution_count": 1,
   "metadata": {},
   "outputs": [],
   "source": [
    "import matplotlib.pyplot as plt\n",
    "import numpy as np\n",
    "import pandas as pd\n",
    "import os"
   ]
  },
  {
   "cell_type": "code",
   "execution_count": 68,
   "metadata": {},
   "outputs": [],
   "source": [
    "# root_file = '/home/dhasade/audits/ml-audits/results/german_credit/merged_german_credit_stratified_n2.csv'\n",
    "# root_file = '/home/dhasade/audits/ml-audits/results/propublica/merged_propublica_stratified_n2.csv'\n",
    "root_file = '/home/dhasade/audits/ml-audits/results/folktables/merged_folktables_stratified_n2.csv'"
   ]
  },
  {
   "cell_type": "code",
   "execution_count": 69,
   "metadata": {},
   "outputs": [],
   "source": [
    "df = pd.read_csv(root_file)"
   ]
  },
  {
   "cell_type": "code",
   "execution_count": 70,
   "metadata": {},
   "outputs": [],
   "source": [
    "collaboration_map = {\n",
    "    'none': 'No Collab.',\n",
    "    'apriori (unbiased)': 'Apriori',\n",
    "    'aposteriori' : 'Aposteriori'\n",
    "}"
   ]
  },
  {
   "cell_type": "code",
   "execution_count": 71,
   "metadata": {},
   "outputs": [],
   "source": [
    "aggregated_df = df.groupby(['budget', 'dataset', 'collaboration', 'sample', 'agent', 'attribute'])['dp_error'].mean().reset_index()\n",
    "\n",
    "# get separate dataframes for each agent\n",
    "agent0_df = aggregated_df[aggregated_df['agent'] == 0] # age\n",
    "agent1_df = aggregated_df[aggregated_df['agent'] == 1] # sex"
   ]
  },
  {
   "cell_type": "code",
   "execution_count": 72,
   "metadata": {},
   "outputs": [
    {
     "data": {
      "text/html": [
       "<div>\n",
       "<style scoped>\n",
       "    .dataframe tbody tr th:only-of-type {\n",
       "        vertical-align: middle;\n",
       "    }\n",
       "\n",
       "    .dataframe tbody tr th {\n",
       "        vertical-align: top;\n",
       "    }\n",
       "\n",
       "    .dataframe thead th {\n",
       "        text-align: right;\n",
       "    }\n",
       "</style>\n",
       "<table border=\"1\" class=\"dataframe\">\n",
       "  <thead>\n",
       "    <tr style=\"text-align: right;\">\n",
       "      <th></th>\n",
       "      <th>budget</th>\n",
       "      <th>dataset</th>\n",
       "      <th>collaboration</th>\n",
       "      <th>sample</th>\n",
       "      <th>agent</th>\n",
       "      <th>attribute</th>\n",
       "      <th>dp_error</th>\n",
       "    </tr>\n",
       "  </thead>\n",
       "  <tbody>\n",
       "    <tr>\n",
       "      <th>0</th>\n",
       "      <td>100</td>\n",
       "      <td>folktables</td>\n",
       "      <td>aposteriori</td>\n",
       "      <td>stratified</td>\n",
       "      <td>0</td>\n",
       "      <td>SEX</td>\n",
       "      <td>0.038720</td>\n",
       "    </tr>\n",
       "    <tr>\n",
       "      <th>1</th>\n",
       "      <td>100</td>\n",
       "      <td>folktables</td>\n",
       "      <td>aposteriori</td>\n",
       "      <td>stratified</td>\n",
       "      <td>1</td>\n",
       "      <td>MAR</td>\n",
       "      <td>0.048481</td>\n",
       "    </tr>\n",
       "    <tr>\n",
       "      <th>2</th>\n",
       "      <td>100</td>\n",
       "      <td>folktables</td>\n",
       "      <td>apriori (unbiased)</td>\n",
       "      <td>stratified</td>\n",
       "      <td>0</td>\n",
       "      <td>SEX</td>\n",
       "      <td>0.036308</td>\n",
       "    </tr>\n",
       "    <tr>\n",
       "      <th>3</th>\n",
       "      <td>100</td>\n",
       "      <td>folktables</td>\n",
       "      <td>apriori (unbiased)</td>\n",
       "      <td>stratified</td>\n",
       "      <td>1</td>\n",
       "      <td>MAR</td>\n",
       "      <td>0.050059</td>\n",
       "    </tr>\n",
       "    <tr>\n",
       "      <th>4</th>\n",
       "      <td>100</td>\n",
       "      <td>folktables</td>\n",
       "      <td>none</td>\n",
       "      <td>stratified</td>\n",
       "      <td>0</td>\n",
       "      <td>SEX</td>\n",
       "      <td>0.052875</td>\n",
       "    </tr>\n",
       "  </tbody>\n",
       "</table>\n",
       "</div>"
      ],
      "text/plain": [
       "   budget     dataset       collaboration      sample  agent attribute  \\\n",
       "0     100  folktables         aposteriori  stratified      0       SEX   \n",
       "1     100  folktables         aposteriori  stratified      1       MAR   \n",
       "2     100  folktables  apriori (unbiased)  stratified      0       SEX   \n",
       "3     100  folktables  apriori (unbiased)  stratified      1       MAR   \n",
       "4     100  folktables                none  stratified      0       SEX   \n",
       "\n",
       "   dp_error  \n",
       "0  0.038720  \n",
       "1  0.048481  \n",
       "2  0.036308  \n",
       "3  0.050059  \n",
       "4  0.052875  "
      ]
     },
     "execution_count": 72,
     "metadata": {},
     "output_type": "execute_result"
    }
   ],
   "source": [
    "aggregated_df.head()"
   ]
  },
  {
   "cell_type": "code",
   "execution_count": 73,
   "metadata": {},
   "outputs": [],
   "source": [
    "s = 7\n",
    "params = {\n",
    "   'legend.fontsize': s,\n",
    "   'xtick.labelsize': 6,\n",
    "   'ytick.labelsize': 6,\n",
    "   'axes.labelsize': s,\n",
    "   'text.usetex': False,\n",
    "   # 'figure.figsize': [1.3, 1.1],\n",
    "   'figure.figsize': [3.2, 1.1],\n",
    "   'lines.linewidth': 1,\n",
    "   'lines.markersize': 3,\n",
    "   'axes.titlesize': s,\n",
    "   }\n",
    "\n",
    "# set rc params\n",
    "plt.rcParams.update(params)\n"
   ]
  },
  {
   "cell_type": "code",
   "execution_count": 74,
   "metadata": {},
   "outputs": [
    {
     "data": {
      "image/png": "[encoded data removed]",
      "text/plain": [
       "<Figure size 320x110 with 1 Axes>"
      ]
     },
     "metadata": {},
     "output_type": "display_data"
    }
   ],
   "source": [
    "# Plot separately for each agent\n",
    "# Agent 0: Age\n",
    "\n",
    "# Plot budget vs. error, grouped by collaboration column\n",
    "for collaboration, group in agent0_df.groupby('collaboration'):\n",
    "    plt.plot(group['budget'], group['dp_error'], label=collaboration_map[collaboration], marker='o')\n",
    "\n",
    "plt.ylabel('DP Error')\n",
    "plt.xlabel('Budget')\n",
    "# plt.legend()\n",
    "\n",
    "# save plot to file\n",
    "plot_name = 'gc_agent0_AGE_dp_error_vs_budget.pdf'\n",
    "# plt.savefig(f'../results/plots/{plot_name}', bbox_inches='tight', dpi=300)\n"
   ]
  },
  {
   "cell_type": "code",
   "execution_count": 75,
   "metadata": {},
   "outputs": [
    {
     "data": {
      "image/png": "[encoded data removed]",
      "text/plain": [
       "<Figure size 320x110 with 2 Axes>"
      ]
     },
     "metadata": {},
     "output_type": "display_data"
    }
   ],
   "source": [
    "# plot for each agent side-by-side\n",
    "fig, (ax1, ax2) = plt.subplots(1, 2)\n",
    "\n",
    "# no background for the legend\n",
    "plt.rc('legend', frameon=False)    # no background for the legend\n",
    "\n",
    "# Plot budget vs. error, grouped by collaboration column\n",
    "for collaboration, group in agent0_df.groupby('collaboration'):\n",
    "    ax1.plot(group['budget'], group['dp_error'], label=collaboration_map[collaboration], marker='o')\n",
    "\n",
    "    ax1.set_ylabel('DP Error')\n",
    "    ax1.set_xlabel('Budget')\n",
    "    \n",
    "    # ax1.set_title('Age')\n",
    "    ax1.set_title('Sex')\n",
    "\n",
    "    # # set xticks at 250, 500, 750, 1000\n",
    "    # ax1.set_xticks([250, 500, 750, 1000])\n",
    "\n",
    "    # ax1.legend()\n",
    "\n",
    "# Plot budget vs. error, grouped by collaboration column\n",
    "for collaboration, group in agent1_df.groupby('collaboration'):\n",
    "    ax2.plot(group['budget'], group['dp_error'], label=collaboration_map[collaboration], marker='o')\n",
    "\n",
    "    # ax2.set_ylabel('DP Error')\n",
    "    ax2.set_xlabel('Budget')\n",
    "    \n",
    "    # ax2.set_title('Sex')\n",
    "    # ax2.set_title('African-American')\n",
    "    ax2.set_title('Marital Status')\n",
    "    \n",
    "    # ax2.legend()\n",
    "\n",
    "    # # set xticks at 250, 500, 750\n",
    "    # ax2.set_xticks([250, 500, 750])\n",
    "\n",
    "\n",
    "# set legend location outside, at the top of the plot with 2 columns\n",
    "# ax2.legend(bbox_to_anchor=(1.1, 1.5), loc='upper right', ncol=3)\n",
    "\n",
    "# add space between subplots\n",
    "plt.subplots_adjust(wspace=0.4)\n",
    "\n",
    "# save plot to file\n",
    "# plot_name = 'gc_dp_error_vs_budget.pdf'\n",
    "# plot_name = 'propublica_dp_error_vs_budget.pdf'\n",
    "plot_name = 'folktables_dp_error_vs_budget.pdf'\n",
    "# plt.savefig(f'../results/plots/{plot_name}', bbox_inches='tight', dpi=300)"
   ]
  },
  {
   "cell_type": "code",
   "execution_count": 11,
   "metadata": {},
   "outputs": [],
   "source": [
    "# save the csv\n",
    "# aggregated_df.to_csv('../results/plots_data/gc_2agents.csv', index=False)\n",
    "# aggregated_df.to_csv('../results/plots_data/pp_2agents.csv', index=False)\n",
    "# aggregated_df.to_csv('../results/plots_data/ft_2agents.csv', index=False)"
   ]
  },
  {
   "cell_type": "code",
   "execution_count": null,
   "metadata": {},
   "outputs": [],
   "source": []
  }
 ],
 "metadata": {
  "kernelspec": {
   "display_name": "audits",
   "language": "python",
   "name": "python3"
  },
  "language_info": {
   "codemirror_mode": {
    "name": "ipython",
    "version": 3
   },
   "file_extension": ".py",
   "mimetype": "text/x-python",
   "name": "python",
   "nbconvert_exporter": "python",
   "pygments_lexer": "ipython3",
   "version": "3.8.17"
  }
 },
 "nbformat": 4,
 "nbformat_minor": 2
}
