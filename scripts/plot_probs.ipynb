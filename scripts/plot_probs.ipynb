{
 "cells": [
  {
   "cell_type": "code",
   "execution_count": 10,
   "metadata": {},
   "outputs": [],
   "source": [
    "import pickle\n",
    "import numpy as np\n",
    "import matplotlib.pyplot as plt\n",
    "import pandas as pd\n",
    "from itertools import combinations"
   ]
  },
  {
   "cell_type": "code",
   "execution_count": 68,
   "metadata": {},
   "outputs": [],
   "source": [
    "# German Credit\n",
    "probs_file = '/home/dhasade/audits/ml-audits/data/german_credit/all_nks.pkl'\n",
    "ts = 1000"
   ]
  },
  {
   "cell_type": "code",
   "execution_count": 86,
   "metadata": {},
   "outputs": [],
   "source": [
    "# propublica\n",
    "probs_file = '/home/dhasade/audits/ml-audits/data/propublica/all_nks.pkl'\n",
    "ts = 6172"
   ]
  },
  {
   "cell_type": "code",
   "execution_count": 105,
   "metadata": {},
   "outputs": [],
   "source": [
    "# folktables\n",
    "probs_file = '/home/dhasade/audits/ml-audits/data/folktables/all_nks.pkl'\n",
    "ts = 5916565"
   ]
  },
  {
   "cell_type": "code",
   "execution_count": 100,
   "metadata": {},
   "outputs": [],
   "source": [
    "with open(probs_file, 'rb') as f:\n",
    "    ns = pickle.load(f)"
   ]
  },
  {
   "cell_type": "code",
   "execution_count": 101,
   "metadata": {},
   "outputs": [],
   "source": [
    "n = 5"
   ]
  },
  {
   "cell_type": "code",
   "execution_count": 102,
   "metadata": {},
   "outputs": [],
   "source": [
    "def get_max_value(nested_dict):\n",
    "    max_value = 0\n",
    "    for _, v in nested_dict.items():\n",
    "        if isinstance(v, dict):\n",
    "            v = get_max_value(v)\n",
    "        if v > max_value:\n",
    "            max_value = v\n",
    "    return max_value"
   ]
  },
  {
   "cell_type": "code",
   "execution_count": 103,
   "metadata": {},
   "outputs": [],
   "source": [
    "def get_sum_value(nested_dict):\n",
    "    sum_value = 0\n",
    "    for _, v in nested_dict.items():\n",
    "        if isinstance(v, dict):\n",
    "            v = get_sum_value(v)\n",
    "        sum_value += v\n",
    "    return sum_value"
   ]
  },
  {
   "cell_type": "code",
   "execution_count": 106,
   "metadata": {},
   "outputs": [],
   "source": [
    "max_ns = [[] for _ in range(1, n+1)]\n",
    "\n",
    "for k in range(1, n+1):\n",
    "    possible_collaborators = list(range(n))\n",
    "    agent_combinations_list = list(combinations(possible_collaborators, k))\n",
    "\n",
    "    for agent_combination in agent_combinations_list:\n",
    "        agent_comb_str = ''.join([str(elem) for elem in agent_combination])\n",
    "        \n",
    "        base_agent = agent_combination[0]\n",
    "        rem_agents_str = agent_comb_str[1:]\n",
    "\n",
    "        ns_dict = ns[base_agent][k-1][rem_agents_str]\n",
    "        max_ns[k-1].append(get_max_value(ns_dict))\n",
    "        # print(get_sum_value(ns_dict))\n"
   ]
  },
  {
   "cell_type": "code",
   "execution_count": 107,
   "metadata": {},
   "outputs": [
    {
     "data": {
      "text/plain": [
       "[[3350155, 3715173, 3897123, 5028193, 4847855],\n",
       " [1873673,\n",
       "  2354912,\n",
       "  2819825,\n",
       "  2793938,\n",
       "  2084302,\n",
       "  3332985,\n",
       "  2913083,\n",
       "  3171258,\n",
       "  3321212,\n",
       "  4111313],\n",
       " [1430947,\n",
       "  1691977,\n",
       "  1459856,\n",
       "  1904423,\n",
       "  2049887,\n",
       "  2346967,\n",
       "  1758458,\n",
       "  1860003,\n",
       "  2613036,\n",
       "  2699141],\n",
       " [1113373, 1290532, 1320288, 1659061, 1435844],\n",
       " [1012227]]"
      ]
     },
     "execution_count": 107,
     "metadata": {},
     "output_type": "execute_result"
    }
   ],
   "source": [
    "max_ns"
   ]
  },
  {
   "cell_type": "code",
   "execution_count": 108,
   "metadata": {},
   "outputs": [],
   "source": [
    "max_ps = [[x/ts for x in max_ns[k]] for k in range(n)]\n",
    "# max_ps"
   ]
  },
  {
   "cell_type": "code",
   "execution_count": 109,
   "metadata": {},
   "outputs": [],
   "source": [
    "avg_ps = [np.mean(max_ps[k]) for k in range(n)]\n",
    "min_ps = [np.min(max_ps[k]) for k in range(n)]\n",
    "max_ps = [np.max(max_ps[k]) for k in range(n)]"
   ]
  },
  {
   "cell_type": "code",
   "execution_count": 113,
   "metadata": {},
   "outputs": [
    {
     "data": {
      "image/png": "[encoded data removed]",
      "text/plain": [
       "<Figure size 800x210 with 3 Axes>"
      ]
     },
     "metadata": {},
     "output_type": "display_data"
    }
   ],
   "source": [
    "# create 3 subplots for min_ps, avg_ps and max_ps\n",
    "fig, ax = plt.subplots(nrows=1, ncols=3, figsize=(8, 2.1))\n",
    "\n",
    "# add grid to the subplots\n",
    "# for i in range(3):\n",
    "#     ax[i].grid(True)\n",
    "\n",
    "# plot min_ps vs k\n",
    "ax[0].plot(range(1, n+1), min_ps, marker='o')\n",
    "ax[0].set_title('Min')\n",
    "ax[0].set_xlabel('Number of agents')\n",
    "ax[0].set_ylabel('Max p')\n",
    "\n",
    "# plot avg_ps vs k\n",
    "ax[1].plot(range(1, n+1), avg_ps, marker='o')\n",
    "ax[1].set_title('Average')\n",
    "ax[1].set_xlabel('Number of agents')\n",
    "# ax[1].set_ylabel('Max p')\n",
    "\n",
    "# plot max_ps vs k\n",
    "ax[2].plot(range(1, n+1), max_ps, marker='o')\n",
    "ax[2].set_title('Max')\n",
    "ax[2].set_xlabel('Number of agents')\n",
    "# ax[2].set_ylabel('Max p')\n",
    "\n",
    "plt.tight_layout()\n",
    "\n",
    "# plt.savefig('../results/prob_values/german_credit_max_p.pdf', dpi=300, bbox_inches='tight')\n",
    "# plt.savefig('../results/prob_values/propublica_max_p.pdf', dpi=300, bbox_inches='tight')\n",
    "# plt.savefig('../results/prob_values/folktables_max_p.pdf', dpi=300, bbox_inches='tight')"
   ]
  },
  {
   "cell_type": "code",
   "execution_count": 111,
   "metadata": {},
   "outputs": [],
   "source": [
    "# create a dataframe to store the min, avg and max values\n",
    "df = pd.DataFrame({'Min': min_ps, 'Average': avg_ps, 'Max': max_ps, 'k': range(1, n+1)})\n"
   ]
  },
  {
   "cell_type": "code",
   "execution_count": 112,
   "metadata": {},
   "outputs": [],
   "source": [
    "# df.to_csv('../results/prob_values/german_credit_max_p.csv', index=False)\n",
    "# df.to_csv('../results/prob_values/propublica_max_p.csv', index=False)\n",
    "df.to_csv('../results/prob_values/folktables_max_p.csv', index=False)\n"
   ]
  },
  {
   "cell_type": "code",
   "execution_count": null,
   "metadata": {},
   "outputs": [],
   "source": []
  }
 ],
 "metadata": {
  "kernelspec": {
   "display_name": "audits",
   "language": "python",
   "name": "python3"
  },
  "language_info": {
   "codemirror_mode": {
    "name": "ipython",
    "version": 3
   },
   "file_extension": ".py",
   "mimetype": "text/x-python",
   "name": "python",
   "nbconvert_exporter": "python",
   "pygments_lexer": "ipython3",
   "version": "3.8.17"
  }
 },
 "nbformat": 4,
 "nbformat_minor": 2
}
