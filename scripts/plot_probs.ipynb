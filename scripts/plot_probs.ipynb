{
 "cells": [
  {
   "cell_type": "code",
   "execution_count": 1,
   "metadata": {},
   "outputs": [],
   "source": [
    "import pickle\n",
    "import numpy as np\n",
    "import matplotlib.pyplot as plt\n",
    "import pandas as pd\n",
    "from itertools import combinations"
   ]
  },
  {
   "cell_type": "code",
   "execution_count": 50,
   "metadata": {},
   "outputs": [],
   "source": [
    "# German Credit\n",
    "probs_file = '/home/dhasade/audits/ml-audits/data/german_credit/all_nks.pkl'\n",
    "ts = 1000"
   ]
  },
  {
   "cell_type": "code",
   "execution_count": 59,
   "metadata": {},
   "outputs": [],
   "source": [
    "# propublica\n",
    "probs_file = '/home/dhasade/audits/ml-audits/data/propublica/all_nks.pkl'\n",
    "ts = 6172"
   ]
  },
  {
   "cell_type": "code",
   "execution_count": 39,
   "metadata": {},
   "outputs": [],
   "source": [
    "# folktables\n",
    "probs_file = '/home/dhasade/audits/ml-audits/data/folktables/all_nks.pkl'\n",
    "ts = 5916565"
   ]
  },
  {
   "cell_type": "code",
   "execution_count": 60,
   "metadata": {},
   "outputs": [],
   "source": [
    "with open(probs_file, 'rb') as f:\n",
    "    ns = pickle.load(f)"
   ]
  },
  {
   "cell_type": "code",
   "execution_count": 61,
   "metadata": {},
   "outputs": [],
   "source": [
    "n = 5"
   ]
  },
  {
   "cell_type": "code",
   "execution_count": 62,
   "metadata": {},
   "outputs": [],
   "source": [
    "def get_max_value(nested_dict):\n",
    "    max_value = 0\n",
    "    for _, v in nested_dict.items():\n",
    "        if isinstance(v, dict):\n",
    "            v = get_max_value(v)\n",
    "        if v > max_value:\n",
    "            max_value = v\n",
    "    return max_value"
   ]
  },
  {
   "cell_type": "code",
   "execution_count": 63,
   "metadata": {},
   "outputs": [],
   "source": [
    "def get_sum_value(nested_dict):\n",
    "    sum_value = 0\n",
    "    for _, v in nested_dict.items():\n",
    "        if isinstance(v, dict):\n",
    "            v = get_sum_value(v)\n",
    "        sum_value += v\n",
    "    return sum_value"
   ]
  },
  {
   "cell_type": "code",
   "execution_count": 64,
   "metadata": {},
   "outputs": [],
   "source": [
    "max_ns = [[] for _ in range(1, n+1)]\n",
    "\n",
    "for k in range(1, n+1):\n",
    "    possible_collaborators = list(range(n))\n",
    "    agent_combinations_list = list(combinations(possible_collaborators, k))\n",
    "\n",
    "    for agent_combination in agent_combinations_list:\n",
    "        agent_comb_str = ''.join([str(elem) for elem in agent_combination])\n",
    "        \n",
    "        base_agent = agent_combination[0]\n",
    "        rem_agents_str = agent_comb_str[1:]\n",
    "\n",
    "        ns_dict = ns[base_agent][k-1][rem_agents_str]\n",
    "        max_ns[k-1].append(get_max_value(ns_dict))\n",
    "        # print(get_sum_value(ns_dict))\n"
   ]
  },
  {
   "cell_type": "code",
   "execution_count": 65,
   "metadata": {},
   "outputs": [
    {
     "data": {
      "text/plain": [
       "[[4997, 3175, 4825, 3970, 4087],\n",
       " [2626, 3896, 3286, 3439, 2459, 2196, 2329, 3002, 3357, 2845],\n",
       " [1962, 1836, 1990, 2465, 2811, 2396, 1588, 1862, 1680, 2287],\n",
       " [1323, 1585, 1427, 1906, 1311],\n",
       " [1104]]"
      ]
     },
     "execution_count": 65,
     "metadata": {},
     "output_type": "execute_result"
    }
   ],
   "source": [
    "max_ns"
   ]
  },
  {
   "cell_type": "code",
   "execution_count": 57,
   "metadata": {},
   "outputs": [],
   "source": [
    "max_ps = [[x/ts for x in max_ns[k]] for k in range(n)]\n",
    "# max_ps"
   ]
  },
  {
   "cell_type": "code",
   "execution_count": 109,
   "metadata": {},
   "outputs": [],
   "source": [
    "avg_ps = [np.mean(max_ps[k]) for k in range(n)]\n",
    "min_ps = [np.min(max_ps[k]) for k in range(n)]\n",
    "max_ps = [np.max(max_ps[k]) for k in range(n)]"
   ]
  },
  {
   "cell_type": "code",
   "execution_count": 113,
   "metadata": {},
   "outputs": [
    {
     "data": {
      "image/png": "[encoded data removed]",
      "text/plain": [
       "<Figure size 800x210 with 3 Axes>"
      ]
     },
     "metadata": {},
     "output_type": "display_data"
    }
   ],
   "source": [
    "# create 3 subplots for min_ps, avg_ps and max_ps\n",
    "fig, ax = plt.subplots(nrows=1, ncols=3, figsize=(8, 2.1))\n",
    "\n",
    "# add grid to the subplots\n",
    "# for i in range(3):\n",
    "#     ax[i].grid(True)\n",
    "\n",
    "# plot min_ps vs k\n",
    "ax[0].plot(range(1, n+1), min_ps, marker='o')\n",
    "ax[0].set_title('Min')\n",
    "ax[0].set_xlabel('Number of agents')\n",
    "ax[0].set_ylabel('Max p')\n",
    "\n",
    "# plot avg_ps vs k\n",
    "ax[1].plot(range(1, n+1), avg_ps, marker='o')\n",
    "ax[1].set_title('Average')\n",
    "ax[1].set_xlabel('Number of agents')\n",
    "# ax[1].set_ylabel('Max p')\n",
    "\n",
    "# plot max_ps vs k\n",
    "ax[2].plot(range(1, n+1), max_ps, marker='o')\n",
    "ax[2].set_title('Max')\n",
    "ax[2].set_xlabel('Number of agents')\n",
    "# ax[2].set_ylabel('Max p')\n",
    "\n",
    "plt.tight_layout()\n",
    "\n",
    "# plt.savefig('../results/prob_values/german_credit_max_p.pdf', dpi=300, bbox_inches='tight')\n",
    "# plt.savefig('../results/prob_values/propublica_max_p.pdf', dpi=300, bbox_inches='tight')\n",
    "# plt.savefig('../results/prob_values/folktables_max_p.pdf', dpi=300, bbox_inches='tight')"
   ]
  },
  {
   "cell_type": "code",
   "execution_count": 111,
   "metadata": {},
   "outputs": [],
   "source": [
    "# create a dataframe to store the min, avg and max values\n",
    "df = pd.DataFrame({'Min': min_ps, 'Average': avg_ps, 'Max': max_ps, 'k': range(1, n+1)})\n"
   ]
  },
  {
   "cell_type": "code",
   "execution_count": 112,
   "metadata": {},
   "outputs": [],
   "source": [
    "# df.to_csv('../results/prob_values/german_credit_max_p.csv', index=False)\n",
    "# df.to_csv('../results/prob_values/propublica_max_p.csv', index=False)\n",
    "df.to_csv('../results/prob_values/folktables_max_p.csv', index=False)\n"
   ]
  },
  {
   "cell_type": "code",
   "execution_count": 11,
   "metadata": {},
   "outputs": [],
   "source": [
    "# save max_ns to a file\n",
    "# each row is a comma separated list of max_ns for a particular k\n",
    "with open('../results/prob_values/german_credit_max_ns_all.csv', 'w') as f:\n",
    "    for k in range(n):\n",
    "        # write k\n",
    "        f.write(str(k+1) + ',')\n",
    "        f.write(','.join([str(x) for x in max_ps[k]]) + '\\n')"
   ]
  },
  {
   "cell_type": "code",
   "execution_count": 20,
   "metadata": {},
   "outputs": [],
   "source": [
    "# save max_ns to a file\n",
    "# each row is a comma separated list of max_ns for a particular k\n",
    "with open('../results/prob_values/propublica_max_ns_all.csv', 'w') as f:\n",
    "    for k in range(n):\n",
    "        # write k\n",
    "        f.write(str(k+1) + ',')\n",
    "        f.write(','.join([str(x) for x in max_ps[k]]) + '\\n')"
   ]
  },
  {
   "cell_type": "code",
   "execution_count": 29,
   "metadata": {},
   "outputs": [],
   "source": [
    "# save max_ns to a file\n",
    "# each row is a comma separated list of max_ns for a particular k\n",
    "with open('../results/prob_values/folktables_max_ns_all.csv', 'w') as f:\n",
    "    for k in range(n):\n",
    "        # write k\n",
    "        f.write(str(k+1) + ',')\n",
    "        f.write(','.join([str(x) for x in max_ps[k]]) + '\\n')"
   ]
  },
  {
   "cell_type": "code",
   "execution_count": 115,
   "metadata": {},
   "outputs": [],
   "source": [
    "s = 6\n",
    "params = {\n",
    "   'legend.fontsize': s,\n",
    "   'legend.title_fontsize': s,\n",
    "   'xtick.labelsize': 6,\n",
    "   'ytick.labelsize': 6,\n",
    "   'axes.labelsize': s+1,\n",
    "   'text.usetex': False,\n",
    "   # 'figure.figsize': [2.3, 1.3],\n",
    "   'figure.figsize': [3.5, 1.4],\n",
    "   'lines.linewidth': 1,\n",
    "   'lines.markersize': 3,\n",
    "   'axes.titlesize': s,\n",
    "   }\n",
    "\n",
    "# set rc params\n",
    "plt.rcParams.update(params)\n",
    "# no background for the legend\n",
    "plt.rc('legend', frameon=False)    # no background for the legend"
   ]
  },
  {
   "cell_type": "code",
   "execution_count": 97,
   "metadata": {},
   "outputs": [],
   "source": [
    "# Folktables\n",
    "probs_file = '/home/dhasade/audits/ml-audits/data/folktables/all_nks.pkl'\n",
    "ts = 5916565\n",
    "\n",
    "with open(probs_file, 'rb') as f:\n",
    "    ns = pickle.load(f)\n",
    "\n",
    "n = 5\n",
    "\n",
    "max_ns = [[] for _ in range(1, n+1)]\n",
    "\n",
    "for k in range(1, n+1):\n",
    "    possible_collaborators = list(range(n))\n",
    "    agent_combinations_list = list(combinations(possible_collaborators, k))\n",
    "\n",
    "    for agent_combination in agent_combinations_list:\n",
    "        agent_comb_str = ''.join([str(elem) for elem in agent_combination])\n",
    "        \n",
    "        base_agent = agent_combination[0]\n",
    "        rem_agents_str = agent_comb_str[1:]\n",
    "\n",
    "        ns_dict = ns[base_agent][k-1][rem_agents_str]\n",
    "        max_ns[k-1].append(get_max_value(ns_dict))\n",
    "\n",
    "max_ps = [[x/ts for x in max_ns[k]] for k in range(n)]\n",
    "\n",
    "\n",
    "# create data points from max ps\n",
    "xs1 = []; ys1 = []\n",
    "for k in range(n):\n",
    "    # sample a small number between 0 and 1\n",
    "    # to add some noise to the data points\n",
    "    noise = np.random.uniform(0, 0.2, len(max_ps[k]))\n",
    "    xs1.extend([k+1+noise[i] for i in range(len(max_ps[k]))])\n",
    "    ys1.extend([max_ps[k][i] for i in range(len(max_ps[k]))])"
   ]
  },
  {
   "cell_type": "code",
   "execution_count": 98,
   "metadata": {},
   "outputs": [],
   "source": [
    "# German Credit\n",
    "probs_file = '/home/dhasade/audits/ml-audits/data/german_credit/all_nks.pkl'\n",
    "ts = 1000\n",
    "\n",
    "with open(probs_file, 'rb') as f:\n",
    "    ns = pickle.load(f)\n",
    "\n",
    "n = 5\n",
    "\n",
    "max_ns = [[] for _ in range(1, n+1)]\n",
    "\n",
    "for k in range(1, n+1):\n",
    "    possible_collaborators = list(range(n))\n",
    "    agent_combinations_list = list(combinations(possible_collaborators, k))\n",
    "\n",
    "    for agent_combination in agent_combinations_list:\n",
    "        agent_comb_str = ''.join([str(elem) for elem in agent_combination])\n",
    "        \n",
    "        base_agent = agent_combination[0]\n",
    "        rem_agents_str = agent_comb_str[1:]\n",
    "\n",
    "        ns_dict = ns[base_agent][k-1][rem_agents_str]\n",
    "        max_ns[k-1].append(get_max_value(ns_dict))\n",
    "\n",
    "max_ps = [[x/ts for x in max_ns[k]] for k in range(n)]\n",
    "\n",
    "# create data points from max ps\n",
    "xs2 = []; ys2 = []\n",
    "for k in range(n):\n",
    "    # sample a small number between 0 and 1\n",
    "    # to add some noise to the data points\n",
    "    noise = np.random.uniform(0, 0.2, len(max_ps[k]))\n",
    "    xs2.extend([k+1+noise[i] for i in range(len(max_ps[k]))])\n",
    "    ys2.extend([max_ps[k][i] for i in range(len(max_ps[k]))])"
   ]
  },
  {
   "cell_type": "code",
   "execution_count": 99,
   "metadata": {},
   "outputs": [],
   "source": [
    "# propublica\n",
    "probs_file = '/home/dhasade/audits/ml-audits/data/propublica/all_nks.pkl'\n",
    "ts = 6172\n",
    "\n",
    "with open(probs_file, 'rb') as f:\n",
    "    ns = pickle.load(f)\n",
    "\n",
    "n = 5\n",
    "\n",
    "max_ns = [[] for _ in range(1, n+1)]\n",
    "\n",
    "for k in range(1, n+1):\n",
    "    possible_collaborators = list(range(n))\n",
    "    agent_combinations_list = list(combinations(possible_collaborators, k))\n",
    "\n",
    "    for agent_combination in agent_combinations_list:\n",
    "        agent_comb_str = ''.join([str(elem) for elem in agent_combination])\n",
    "        \n",
    "        base_agent = agent_combination[0]\n",
    "        rem_agents_str = agent_comb_str[1:]\n",
    "\n",
    "        ns_dict = ns[base_agent][k-1][rem_agents_str]\n",
    "        max_ns[k-1].append(get_max_value(ns_dict))\n",
    "\n",
    "max_ps = [[x/ts for x in max_ns[k]] for k in range(n)]\n",
    "\n",
    "# create data points from max ps\n",
    "xs3 = []; ys3 = []\n",
    "for k in range(n):\n",
    "    # sample a small number between 0 and 1\n",
    "    # to add some noise to the data points\n",
    "    noise = np.random.uniform(0, 0.2, len(max_ps[k]))\n",
    "    xs3.extend([k+1+noise[i] for i in range(len(max_ps[k]))])\n",
    "    ys3.extend([max_ps[k][i] for i in range(len(max_ps[k]))])"
   ]
  },
  {
   "cell_type": "code",
   "execution_count": 100,
   "metadata": {},
   "outputs": [],
   "source": [
    "# regression line y = 1/2x\n",
    "reg_xs = np.linspace(1, 5, 100)\n",
    "reg_ys = [1/(2*x) for x in reg_xs]"
   ]
  },
  {
   "cell_type": "code",
   "execution_count": 101,
   "metadata": {},
   "outputs": [
    {
     "data": {
      "text/plain": [
       "Text(0, 0.5, 'Relative size of \\n largest stratum')"
      ]
     },
     "execution_count": 101,
     "metadata": {},
     "output_type": "execute_result"
    },
    {
     "data": {
      "image/png": "[encoded data removed]",
      "text/plain": [
       "<Figure size 380x170 with 1 Axes>"
      ]
     },
     "metadata": {},
     "output_type": "display_data"
    }
   ],
   "source": [
    "plt.grid(True, which='both', linestyle='--', linewidth=0.5)\n",
    "plt.scatter(xs1, ys1)\n",
    "plt.plot(reg_xs, reg_ys, color='red')\n",
    "plt.xlabel('Number of agents')\n",
    "plt.ylabel('Relative size of \\n largest stratum')\n",
    "\n",
    "# plot_name = 'ft_largest_stratum.pdf'\n",
    "# plt.savefig(f'/home/dhasade/audits/ml-audits/results/ECAI/plots/{plot_name}', bbox_inches='tight', dpi=300)"
   ]
  },
  {
   "cell_type": "code",
   "execution_count": 116,
   "metadata": {},
   "outputs": [
    {
     "data": {
      "image/png": "[encoded data removed]",
      "text/plain": [
       "<Figure size 350x140 with 3 Axes>"
      ]
     },
     "metadata": {},
     "output_type": "display_data"
    }
   ],
   "source": [
    "# make 1 x 3 subplots\n",
    "fig, ax = plt.subplots(nrows=1, ncols=3)\n",
    "\n",
    "# add grid to the subplots\n",
    "for i in range(3):\n",
    "    ax[i].grid(True, which='both', linestyle='--', linewidth=0.5)\n",
    "\n",
    "# scatter each dataset across the subplots\n",
    "ax[0].scatter(xs1, ys1)\n",
    "ax[1].scatter(xs2, ys2)\n",
    "ax[2].scatter(xs3, ys3)\n",
    "\n",
    "# plot the regression line y = 1/2x\n",
    "for i in range(3):\n",
    "    ax[i].plot(reg_xs, reg_ys, color='red')\n",
    "\n",
    "# set the x and y labels\n",
    "ax[0].set_xlabel('No. of agents')\n",
    "ax[0].set_ylabel('Relative size of \\n largest stratum')\n",
    "\n",
    "ax[1].set_xlabel('No. of agents')\n",
    "ax[2].set_xlabel('No. of agents')\n",
    "\n",
    "# set the title for each subplot\n",
    "ax[0].set_title('Folktables')\n",
    "ax[1].set_title('German Credit')\n",
    "ax[2].set_title('Propublica')\n",
    "\n",
    "# show all xticks\n",
    "for i in range(3):\n",
    "    ax[i].set_xticks(range(1, 6))\n",
    "\n",
    "plt.tight_layout()\n",
    "\n",
    "plot_name = 'largest_stratum.pdf'\n",
    "plt.savefig(f'/home/dhasade/audits/ml-audits/results/ECAI/plots/{plot_name}', bbox_inches='tight', dpi=300)"
   ]
  },
  {
   "cell_type": "code",
   "execution_count": null,
   "metadata": {},
   "outputs": [],
   "source": []
  }
 ],
 "metadata": {
  "kernelspec": {
   "display_name": "audits",
   "language": "python",
   "name": "python3"
  },
  "language_info": {
   "codemirror_mode": {
    "name": "ipython",
    "version": 3
   },
   "file_extension": ".py",
   "mimetype": "text/x-python",
   "name": "python",
   "nbconvert_exporter": "python",
   "pygments_lexer": "ipython3",
   "version": "3.8.17"
  }
 },
 "nbformat": 4,
 "nbformat_minor": 2
}
