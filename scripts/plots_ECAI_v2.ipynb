{
 "cells": [
  {
   "cell_type": "code",
   "execution_count": 143,
   "metadata": {},
   "outputs": [],
   "source": [
    "import pandas as pd\n",
    "import numpy as np\n",
    "import matplotlib.pyplot as plt\n",
    "import os\n",
    "from matplotlib.ticker import ScalarFormatter"
   ]
  },
  {
   "cell_type": "code",
   "execution_count": 91,
   "metadata": {},
   "outputs": [],
   "source": [
    "label_map = {\n",
    "    'aposteriori': 'a-posteriori',\n",
    "    'apriori': 'a-priori',\n",
    "    'none': 'none',\n",
    "    'apriori (unbiased)': 'a-priori',\n",
    "}"
   ]
  },
  {
   "cell_type": "markdown",
   "metadata": {},
   "source": [
    "## Theorem 1"
   ]
  },
  {
   "cell_type": "code",
   "execution_count": 92,
   "metadata": {},
   "outputs": [],
   "source": [
    "f1 = '/home/dhasade/audits/ml-audits/results/plots_data/ft_stratified_budget_vs_cum_error.csv'\n",
    "g1 = '/home/dhasade/audits/ml-audits/results/plots_data/gc_stratified_budget_vs_cum_error.csv'\n",
    "h1 = '/home/dhasade/audits/ml-audits/results/plots_data/pp_stratified_budget_vs_cum_error.csv'"
   ]
  },
  {
   "cell_type": "code",
   "execution_count": 93,
   "metadata": {},
   "outputs": [],
   "source": [
    "df1 = pd.read_csv(f1)\n",
    "dg1 = pd.read_csv(g1)\n",
    "dh1 = pd.read_csv(h1)"
   ]
  },
  {
   "cell_type": "code",
   "execution_count": 107,
   "metadata": {},
   "outputs": [],
   "source": [
    "s = 7\n",
    "params = {\n",
    "   'legend.fontsize': s,\n",
    "   'legend.title_fontsize': s,\n",
    "   'xtick.labelsize': 6,\n",
    "   'ytick.labelsize': 6,\n",
    "   'axes.labelsize': s+1,\n",
    "   'text.usetex': False,\n",
    "#    'figure.figsize': [2.3, 1.3],\n",
    "   'figure.figsize': [3.5, 1.2],\n",
    "   'lines.linewidth': 1,\n",
    "   'lines.markersize': 3,\n",
    "   'axes.titlesize': s+1,\n",
    "   }\n",
    "\n",
    "# set rc params\n",
    "plt.rcParams.update(params)\n",
    "# no background for the legend\n",
    "plt.rc('legend', frameon=False)    # no background for the legend"
   ]
  },
  {
   "cell_type": "code",
   "execution_count": 108,
   "metadata": {},
   "outputs": [],
   "source": [
    "collabs = df1['collaboration'].unique()\n",
    "markers = ['o', 's', '^', 'v', 'D', 'P', 'v', '<', '>']"
   ]
  },
  {
   "cell_type": "code",
   "execution_count": 112,
   "metadata": {},
   "outputs": [
    {
     "data": {
      "image/png": "[encoded data removed]",
      "text/plain": [
       "<Figure size 350x120 with 3 Axes>"
      ]
     },
     "metadata": {},
     "output_type": "display_data"
    }
   ],
   "source": [
    "# create 1 x 3 subplots\n",
    "fig, axs = plt.subplots(1, 3, sharey=True)\n",
    "\n",
    "# plot budget vs dp_error for each collaboration for df1\n",
    "for i, collaboration in enumerate(collabs):\n",
    "    df_temp = df1[df1['collaboration'] == collaboration]\n",
    "    axs[0].plot(df_temp['budget'], df_temp['dp_error'], label=label_map[collaboration], marker=markers[i])\n",
    "    axs[0].grid(True, which='both', linestyle='--', linewidth=0.5)    \n",
    "\n",
    "    df_temp = dg1[dg1['collaboration'] == collaboration]\n",
    "    axs[1].plot(df_temp['budget'], df_temp['dp_error'], label=label_map[collaboration], marker=markers[i])\n",
    "    axs[1].grid(True, which='both', linestyle='--', linewidth=0.5)\n",
    "\n",
    "    df_temp = dh1[dh1['collaboration'] == collaboration]\n",
    "    axs[2].plot(df_temp['budget'], df_temp['dp_error'], label=label_map[collaboration], marker=markers[i])\n",
    "    axs[2].grid(True, which='both', linestyle='--', linewidth=0.5)\n",
    "\n",
    "axs[0].set_title('Folktables')\n",
    "axs[1].set_title('German Credit')\n",
    "axs[2].set_title('ProPublica')\n",
    "\n",
    "axs[0].set_ylabel('Avg. DP Error')\n",
    "\n",
    "axs[0].set_xlabel('Budget')\n",
    "axs[1].set_xlabel('Budget')\n",
    "axs[2].set_xlabel('Budget')\n",
    "\n",
    "# one legend for all subplots\n",
    "handles, labels = axs[0].get_legend_handles_labels()\n",
    "# ph = [plt.plot([],marker=\"\", ls=\"\")[0]] # Canvas\n",
    "# handles = ph + handles\n",
    "# labels = ['Collaboration'] + labels\n",
    "fig.legend(handles, labels, loc='upper center', bbox_to_anchor=(0.5, 1.22), ncol=3)\n",
    "\n",
    "# plot_name = 'stratified_budget_vs_error_all_datasets.pdf'\n",
    "# plt.savefig(f'/home/dhasade/audits/ml-audits/results/ECAI/plots/{plot_name}', bbox_inches='tight', dpi=300)"
   ]
  },
  {
   "cell_type": "markdown",
   "metadata": {},
   "source": [
    "## Theorem 2"
   ]
  },
  {
   "cell_type": "code",
   "execution_count": 219,
   "metadata": {},
   "outputs": [],
   "source": [
    "f1 = '/home/dhasade/audits/ml-audits/results/plots_data/ft_multicolab_stratified.csv'\n",
    "f2 = '/home/dhasade/audits/ml-audits/results/plots_data/ft_multicolab_uniform.csv'\n",
    "f3 = '/home/dhasade/audits/ml-audits/results/plots_data/ft_multicolab_neyman.csv'\n",
    "\n",
    "g1 = '/home/dhasade/audits/ml-audits/results/plots_data/gc_multicolab_stratified.csv'\n",
    "g2 = '/home/dhasade/audits/ml-audits/results/plots_data/gc_multicolab_uniform.csv'\n",
    "g3 = '/home/dhasade/audits/ml-audits/results/plots_data/gc_multicolab_neyman.csv'\n",
    "\n",
    "h1 = '/home/dhasade/audits/ml-audits/results/plots_data/pp_multicolab_stratified.csv'\n",
    "h2 = '/home/dhasade/audits/ml-audits/results/plots_data/pp_multicolab_uniform.csv'\n",
    "h3 = '/home/dhasade/audits/ml-audits/results/plots_data/pp_multicolab_neyman.csv'"
   ]
  },
  {
   "cell_type": "code",
   "execution_count": 220,
   "metadata": {},
   "outputs": [],
   "source": [
    "df1 = pd.read_csv(f1); df2 = pd.read_csv(f2); df3 = pd.read_csv(f3)\n",
    "dg1 = pd.read_csv(g1); dg2 = pd.read_csv(g2); dg3 = pd.read_csv(g3)\n",
    "dh1 = pd.read_csv(h1); dh2 = pd.read_csv(h2); dh3 = pd.read_csv(h3)\n",
    "\n",
    "# keep only aposteriori collaboration\n",
    "df1 = df1[df1['collaboration'] == 'aposteriori']; df2 = df2[df2['collaboration'] == 'aposteriori']; df3 = df3[df3['collaboration'] == 'aposteriori']\n",
    "dg1 = dg1[dg1['collaboration'] == 'aposteriori']; dg2 = dg2[dg2['collaboration'] == 'aposteriori']; dg3 = dg3[dg3['collaboration'] == 'aposteriori']\n",
    "dh1 = dh1[dh1['collaboration'] == 'aposteriori']; dh2 = dh2[dh2['collaboration'] == 'aposteriori']; dh3 = dh3[dh3['collaboration'] == 'aposteriori']\n",
    "\n",
    "# add a column to indicate the sampling strategy\n",
    "df1['sample'] = 'stratified'; df2['sample'] = 'uniform'; df3['sample'] = 'neyman'\n",
    "dg1['sample'] = 'stratified'; dg2['sample'] = 'uniform'; dg3['sample'] = 'neyman'\n",
    "dh1['sample'] = 'stratified'; dh2['sample'] = 'uniform'; dh3['sample'] = 'neyman'\n",
    "\n",
    "# concatenate the two dataframes\n",
    "df = pd.concat([df1, df2, df3])\n",
    "dg = pd.concat([dg1, dg2, dg3])\n",
    "dh = pd.concat([dh1, dh2, dh3])"
   ]
  },
  {
   "cell_type": "code",
   "execution_count": 230,
   "metadata": {},
   "outputs": [
    {
     "data": {
      "text/plain": [
       "2     0.000698\n",
       "5     0.000466\n",
       "8     0.000691\n",
       "11    0.000896\n",
       "14    0.000537\n",
       "Name: cum_dp_error, dtype: float64"
      ]
     },
     "execution_count": 230,
     "metadata": {},
     "output_type": "execute_result"
    }
   ],
   "source": [
    "# get the different between stratified and neyman sampling\n",
    "df1['cum_dp_error'] - df3['cum_dp_error']"
   ]
  },
  {
   "cell_type": "code",
   "execution_count": 231,
   "metadata": {},
   "outputs": [
    {
     "data": {
      "text/plain": [
       "2     0.001351\n",
       "5     0.000442\n",
       "8    -0.000353\n",
       "11    0.000400\n",
       "14   -0.000337\n",
       "Name: cum_dp_error, dtype: float64"
      ]
     },
     "execution_count": 231,
     "metadata": {},
     "output_type": "execute_result"
    }
   ],
   "source": [
    "dg1['cum_dp_error'] - dg3['cum_dp_error']"
   ]
  },
  {
   "cell_type": "code",
   "execution_count": 232,
   "metadata": {},
   "outputs": [
    {
     "data": {
      "text/plain": [
       "2     0.000205\n",
       "5    -0.000450\n",
       "8    -0.000325\n",
       "11    0.000151\n",
       "14   -0.000239\n",
       "Name: cum_dp_error, dtype: float64"
      ]
     },
     "execution_count": 232,
     "metadata": {},
     "output_type": "execute_result"
    }
   ],
   "source": [
    "dh1['cum_dp_error'] - dh3['cum_dp_error']"
   ]
  },
  {
   "cell_type": "code",
   "execution_count": 221,
   "metadata": {},
   "outputs": [],
   "source": [
    "s = 7\n",
    "params = {\n",
    "   'legend.fontsize': s,\n",
    "   'legend.title_fontsize': s,\n",
    "   'xtick.labelsize': 6,\n",
    "   'ytick.labelsize': 6,\n",
    "   'axes.labelsize': s+1,\n",
    "   'text.usetex': False,\n",
    "#    'figure.figsize': [2.3, 1.3],\n",
    "   'figure.figsize': [3.5, 1.2],\n",
    "   'lines.linewidth': 1,\n",
    "   'lines.markersize': 3,\n",
    "   'axes.titlesize': s+1,\n",
    "   }\n",
    "\n",
    "# set rc params\n",
    "plt.rcParams.update(params)\n",
    "# no background for the legend\n",
    "plt.rc('legend', frameon=False)    # no background for the legend"
   ]
  },
  {
   "cell_type": "code",
   "execution_count": 211,
   "metadata": {},
   "outputs": [
    {
     "data": {
      "image/png": "[encoded data removed]",
      "text/plain": [
       "<Figure size 350x120 with 3 Axes>"
      ]
     },
     "metadata": {},
     "output_type": "display_data"
    }
   ],
   "source": [
    "# create 1 x 3 subplots\n",
    "fig, axs = plt.subplots(1, 3, sharey=False)\n",
    "\n",
    "sampling_strategies = ['neyman', 'stratified', 'uniform']\n",
    "markers = ['v', '^', 'o', 'v', 'D', 'P', 'v', '<', '>']\n",
    "linestyles = ['-', '-', '-']\n",
    "\n",
    "# plot budget vs dp_error for each collaboration for df1\n",
    "for i, sampling_strategy in enumerate(sampling_strategies):\n",
    "    # capitalize the first letter\n",
    "    if sampling_strategy == 'neyman': \n",
    "        sampling_strategy_label = sampling_strategy.capitalize()\n",
    "    else:\n",
    "        sampling_strategy_label = sampling_strategy\n",
    "    df_temp = df[df['sample'] == sampling_strategy]\n",
    "    axs[0].plot(df_temp['n'], df_temp['cum_dp_error'], label=sampling_strategy_label, marker=markers[i], linestyle=linestyles[i])\n",
    "    axs[0].grid(True, which='both', linestyle='--', linewidth=0.5)    \n",
    "\n",
    "    df_temp = dg[dg['sample'] == sampling_strategy]\n",
    "    axs[1].plot(df_temp['n'], df_temp['cum_dp_error'], label=sampling_strategy_label, marker=markers[i], linestyle=linestyles[i])\n",
    "    axs[1].grid(True, which='both', linestyle='--', linewidth=0.5)\n",
    "\n",
    "    df_temp = dh[dh['sample'] == sampling_strategy]\n",
    "    axs[2].plot(df_temp['n'], df_temp['cum_dp_error'], label=sampling_strategy_label, marker=markers[i], linestyle=linestyles[i])\n",
    "    axs[2].grid(True, which='both', linestyle='--', linewidth=0.5)\n",
    "\n",
    "axs[0].set_title('Folktables')\n",
    "axs[1].set_title('German Credit')\n",
    "axs[2].set_title('ProPublica')\n",
    "\n",
    "axs[0].set_ylabel('Avg. DP Error')\n",
    "\n",
    "axs[0].set_xlabel('No. of Agents')\n",
    "axs[1].set_xlabel('No. of Agents')\n",
    "axs[2].set_xlabel('No. of Agents')\n",
    "\n",
    "# set xticks\n",
    "xticks = [2, 4]\n",
    "axs[0].set_xticks(xticks)\n",
    "axs[1].set_xticks(xticks)\n",
    "axs[2].set_xticks(xticks)\n",
    "\n",
    "# formatter = ScalarFormatter(useMathText=True)\n",
    "# formatter.set_scientific(True)\n",
    "# formatter.set_powerlimits((0, 2))\n",
    "# axs[0].yaxis.set_major_formatter(formatter)\n",
    "# axs[1].yaxis.set_major_formatter(formatter)\n",
    "# axs[2].yaxis.set_major_formatter(formatter)\n",
    "# one legend for all subplots\n",
    "handles, labels = axs[0].get_legend_handles_labels()\n",
    "# ph = [plt.plot([],marker=\"\", ls=\"\")[0]] # Canvas\n",
    "# handles = ph + handles\n",
    "# labels = ['Sampling:'] + labels\n",
    "fig.legend(handles, labels, loc='upper center', bbox_to_anchor=(0.5, 1.24), ncol=3)\n",
    "# fig.legend(handles, labels, loc='upper center', bbox_to_anchor=(0.5, 1.34), ncol=3)\n",
    "# plt.tight_layout()\n",
    "plt.subplots_adjust(wspace=0.43)\n",
    "\n",
    "# plot_name = 'multicolab_all_all_datasets.pdf'\n",
    "# plt.savefig(f'/home/dhasade/audits/ml-audits/results/ECAI/plots/{plot_name}', bbox_inches='tight', dpi=300)"
   ]
  },
  {
   "cell_type": "markdown",
   "metadata": {},
   "source": [
    "## Theorem 3"
   ]
  },
  {
   "cell_type": "code",
   "execution_count": 131,
   "metadata": {},
   "outputs": [],
   "source": [
    "f1 = '/home/dhasade/audits/ml-audits/results/plots_data/ft_multicolab_stratified.csv'\n",
    "g1 = '/home/dhasade/audits/ml-audits/results/plots_data/gc_multicolab_stratified.csv'\n",
    "h1 = '/home/dhasade/audits/ml-audits/results/plots_data/pp_multicolab_stratified.csv'"
   ]
  },
  {
   "cell_type": "code",
   "execution_count": 132,
   "metadata": {},
   "outputs": [],
   "source": [
    "df1 = pd.read_csv(f1)\n",
    "dg1 = pd.read_csv(g1)\n",
    "dh1 = pd.read_csv(h1)\n",
    "\n",
    "# remove collaboration == none\n",
    "df1 = df1[~(df1['collaboration'] == 'none')]\n",
    "dg1 = dg1[~(dg1['collaboration'] == 'none')]\n",
    "dh1 = dh1[~(dh1['collaboration'] == 'none')]"
   ]
  },
  {
   "cell_type": "code",
   "execution_count": 133,
   "metadata": {},
   "outputs": [],
   "source": [
    "s = 7\n",
    "params = {\n",
    "   'legend.fontsize': s,\n",
    "   'legend.title_fontsize': s,\n",
    "   'xtick.labelsize': 6,\n",
    "   'ytick.labelsize': 6,\n",
    "   'axes.labelsize': s+1,\n",
    "   'text.usetex': False,\n",
    "#    'figure.figsize': [2.3, 1.3],\n",
    "   'figure.figsize': [3.7, 1.3],\n",
    "   'lines.linewidth': 1,\n",
    "   'lines.markersize': 3,\n",
    "   'axes.titlesize': s+1,\n",
    "   }\n",
    "\n",
    "# set rc params\n",
    "plt.rcParams.update(params)\n",
    "# no background for the legend\n",
    "plt.rc('legend', frameon=False)    # no background for the legend"
   ]
  },
  {
   "cell_type": "code",
   "execution_count": 152,
   "metadata": {},
   "outputs": [
    {
     "data": {
      "image/png": "[encoded data removed]",
      "text/plain": [
       "<Figure size 370x130 with 3 Axes>"
      ]
     },
     "metadata": {},
     "output_type": "display_data"
    }
   ],
   "source": [
    "# create 1 x 3 subplots\n",
    "\n",
    "fig, axs = plt.subplots(1, 3, sharey=False)\n",
    "\n",
    "collabs = ['aposteriori', 'apriori']\n",
    "\n",
    "# plot budget vs dp_error for each collaboration for df1\n",
    "for i, collaboration in enumerate(collabs):\n",
    "    df_temp = df1[df1['collaboration'] == collaboration]\n",
    "    axs[0].plot(df_temp['n'], df_temp['cum_dp_error'], label=label_map[collaboration], marker=markers[i])\n",
    "    axs[0].grid(True, which='both', linestyle='--', linewidth=0.5)    \n",
    "\n",
    "    df_temp = dg1[dg1['collaboration'] == collaboration]\n",
    "    axs[1].plot(df_temp['n'], df_temp['cum_dp_error'], label=label_map[collaboration], marker=markers[i])\n",
    "    axs[1].grid(True, which='both', linestyle='--', linewidth=0.5)\n",
    "\n",
    "    df_temp = dh1[dh1['collaboration'] == collaboration]\n",
    "    axs[2].plot(df_temp['n'], df_temp['cum_dp_error'], label=label_map[collaboration], marker=markers[i])\n",
    "    axs[2].grid(True, which='both', linestyle='--', linewidth=0.5)\n",
    "\n",
    "axs[0].set_title('Folktables')\n",
    "axs[1].set_title('German Credit')\n",
    "axs[2].set_title('ProPublica')\n",
    "\n",
    "axs[0].set_ylabel('Avg. DP Error')\n",
    "\n",
    "axs[0].set_xlabel('No. of Agents')\n",
    "axs[1].set_xlabel('No. of Agents')\n",
    "axs[2].set_xlabel('No. of Agents')\n",
    "\n",
    "# set xticks\n",
    "xticks = [2, 4]\n",
    "axs[0].set_xticks(xticks)\n",
    "axs[1].set_xticks(xticks)\n",
    "axs[2].set_xticks(xticks)\n",
    "\n",
    "formatter = ScalarFormatter(useMathText=True)\n",
    "formatter.set_scientific(True)\n",
    "formatter.set_powerlimits((0, 2))\n",
    "axs[0].yaxis.set_major_formatter(formatter)\n",
    "axs[1].yaxis.set_major_formatter(formatter)\n",
    "axs[2].yaxis.set_major_formatter(formatter)\n",
    "# one legend for all subplots\n",
    "handles, labels = axs[0].get_legend_handles_labels()\n",
    "# ph = [plt.plot([],marker=\"\", ls=\"\")[0]] # Canvas\n",
    "# handles = ph + handles\n",
    "# labels = ['Collaboration'] + labels\n",
    "fig.legend(handles, labels, loc='upper center', bbox_to_anchor=(0.5, 1.3), ncol=3)\n",
    "\n",
    "plt.subplots_adjust(wspace=0.44)\n",
    "\n",
    "# plot_name = 'multicolab_apr_vs_apo_all_datasets.pdf'\n",
    "# plt.savefig(f'/home/dhasade/audits/ml-audits/results/ECAI/plots/{plot_name}', bbox_inches='tight', dpi=300)"
   ]
  },
  {
   "cell_type": "markdown",
   "metadata": {},
   "source": [
    "## Theorem 3 for Neyman"
   ]
  },
  {
   "cell_type": "code",
   "execution_count": 212,
   "metadata": {},
   "outputs": [],
   "source": [
    "f1 = '/home/dhasade/audits/ml-audits/results/plots_data/ft_multicolab_neyman.csv'\n",
    "g1 = '/home/dhasade/audits/ml-audits/results/plots_data/gc_multicolab_neyman.csv'\n",
    "h1 = '/home/dhasade/audits/ml-audits/results/plots_data/pp_multicolab_neyman.csv'"
   ]
  },
  {
   "cell_type": "code",
   "execution_count": 213,
   "metadata": {},
   "outputs": [],
   "source": [
    "df1 = pd.read_csv(f1)\n",
    "dg1 = pd.read_csv(g1)\n",
    "dh1 = pd.read_csv(h1)\n",
    "\n",
    "# remove collaboration == none\n",
    "df1 = df1[~(df1['collaboration'] == 'none')]\n",
    "dg1 = dg1[~(dg1['collaboration'] == 'none')]\n",
    "dh1 = dh1[~(dh1['collaboration'] == 'none')]"
   ]
  },
  {
   "cell_type": "code",
   "execution_count": 214,
   "metadata": {},
   "outputs": [],
   "source": [
    "s = 7\n",
    "params = {\n",
    "   'legend.fontsize': s,\n",
    "   'legend.title_fontsize': s,\n",
    "   'xtick.labelsize': 6,\n",
    "   'ytick.labelsize': 6,\n",
    "   'axes.labelsize': s+1,\n",
    "   'text.usetex': False,\n",
    "#    'figure.figsize': [2.3, 1.3],\n",
    "   'figure.figsize': [3.7, 1.3],\n",
    "   'lines.linewidth': 1,\n",
    "   'lines.markersize': 3,\n",
    "   'axes.titlesize': s+1,\n",
    "   }\n",
    "\n",
    "# set rc params\n",
    "plt.rcParams.update(params)\n",
    "# no background for the legend\n",
    "plt.rc('legend', frameon=False)    # no background for the legend"
   ]
  },
  {
   "cell_type": "code",
   "execution_count": 218,
   "metadata": {},
   "outputs": [
    {
     "data": {
      "image/png": "[encoded data removed]",
      "text/plain": [
       "<Figure size 370x130 with 3 Axes>"
      ]
     },
     "metadata": {},
     "output_type": "display_data"
    }
   ],
   "source": [
    "# create 1 x 3 subplots\n",
    "\n",
    "fig, axs = plt.subplots(1, 3, sharey=False)\n",
    "\n",
    "collabs = ['aposteriori', 'apriori']\n",
    "markers = ['s', 'o']\n",
    "\n",
    "# plot budget vs dp_error for each collaboration for df1\n",
    "for i, collaboration in enumerate(collabs):\n",
    "    df_temp = df1[df1['collaboration'] == collaboration]\n",
    "    axs[0].plot(df_temp['n'], df_temp['cum_dp_error'], label=label_map[collaboration], marker=markers[i])\n",
    "    axs[0].grid(True, which='both', linestyle='--', linewidth=0.5)    \n",
    "\n",
    "    df_temp = dg1[dg1['collaboration'] == collaboration]\n",
    "    axs[1].plot(df_temp['n'], df_temp['cum_dp_error'], label=label_map[collaboration], marker=markers[i])\n",
    "    axs[1].grid(True, which='both', linestyle='--', linewidth=0.5)\n",
    "\n",
    "    df_temp = dh1[dh1['collaboration'] == collaboration]\n",
    "    axs[2].plot(df_temp['n'], df_temp['cum_dp_error'], label=label_map[collaboration], marker=markers[i])\n",
    "    axs[2].grid(True, which='both', linestyle='--', linewidth=0.5)\n",
    "\n",
    "axs[0].set_title('Folktables')\n",
    "axs[1].set_title('German Credit')\n",
    "axs[2].set_title('ProPublica')\n",
    "\n",
    "axs[0].set_ylabel('Avg. DP Error')\n",
    "\n",
    "axs[0].set_xlabel('No. of Agents')\n",
    "axs[1].set_xlabel('No. of Agents')\n",
    "axs[2].set_xlabel('No. of Agents')\n",
    "\n",
    "# set xticks\n",
    "xticks = [2, 4]\n",
    "axs[0].set_xticks(xticks)\n",
    "axs[1].set_xticks(xticks)\n",
    "axs[2].set_xticks(xticks)\n",
    "\n",
    "formatter = ScalarFormatter(useMathText=True)\n",
    "formatter.set_scientific(True)\n",
    "formatter.set_powerlimits((0, 2))\n",
    "axs[0].yaxis.set_major_formatter(formatter)\n",
    "axs[1].yaxis.set_major_formatter(formatter)\n",
    "axs[2].yaxis.set_major_formatter(formatter)\n",
    "# one legend for all subplots\n",
    "handles, labels = axs[0].get_legend_handles_labels()\n",
    "# ph = [plt.plot([],marker=\"\", ls=\"\")[0]] # Canvas\n",
    "# handles = ph + handles\n",
    "# labels = ['Collaboration'] + labels\n",
    "fig.legend(handles, labels, loc='upper center', bbox_to_anchor=(0.5, 1.3), ncol=3)\n",
    "\n",
    "plt.subplots_adjust(wspace=0.44)\n",
    "\n",
    "# plot_name = 'multicolab_apr_vs_apo_all_datasets_neyman.pdf'\n",
    "# plt.savefig(f'/home/dhasade/audits/ml-audits/results/ECAI/plots/{plot_name}', bbox_inches='tight', dpi=300)"
   ]
  },
  {
   "cell_type": "code",
   "execution_count": null,
   "metadata": {},
   "outputs": [],
   "source": []
  }
 ],
 "metadata": {
  "kernelspec": {
   "display_name": "audits",
   "language": "python",
   "name": "python3"
  },
  "language_info": {
   "codemirror_mode": {
    "name": "ipython",
    "version": 3
   },
   "file_extension": ".py",
   "mimetype": "text/x-python",
   "name": "python",
   "nbconvert_exporter": "python",
   "pygments_lexer": "ipython3",
   "version": "3.8.17"
  }
 },
 "nbformat": 4,
 "nbformat_minor": 2
}
