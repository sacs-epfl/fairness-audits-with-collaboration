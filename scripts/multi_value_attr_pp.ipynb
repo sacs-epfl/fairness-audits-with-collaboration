{
 "cells": [
  {
   "cell_type": "code",
   "execution_count": 17,
   "metadata": {},
   "outputs": [
    {
     "name": "stdout",
     "output_type": "stream",
     "text": [
      "Loaded ProPublica dataset (rows: 6172)\n"
     ]
    }
   ],
   "source": [
    "import os\n",
    "\n",
    "import pandas as pd\n",
    "from sklearn.preprocessing import LabelEncoder\n",
    "\n",
    "dataset_path = os.path.join(\"..\", \"data\", \"propublica\")\n",
    "dataset_name = \"propublica\"\n",
    "\n",
    "df = pd.read_csv(os.path.join(dataset_path, \"propublica_raw.csv\"))\n",
    "print(\"Loaded ProPublica dataset (rows: %d)\" % len(df))"
   ]
  },
  {
   "cell_type": "code",
   "execution_count": 11,
   "metadata": {},
   "outputs": [],
   "source": [
    "X = df.iloc[:, 1:].copy()\n",
    "y = df.iloc[:, 0]\n",
    "y.name = \"Y\""
   ]
  },
  {
   "cell_type": "code",
   "execution_count": 12,
   "metadata": {},
   "outputs": [],
   "source": [
    "# encode X.Number_of_Priors as a categorical variable into 4 bins 0, 1-5, 6-10, >10\n",
    "X[\"Number_of_Priors\"] = pd.cut(X[\"Number_of_Priors\"], bins=[-1, 0, 5, 10, 1000], labels=[0,1,2,3])"
   ]
  },
  {
   "cell_type": "code",
   "execution_count": 18,
   "metadata": {},
   "outputs": [],
   "source": [
    "X = X.reset_index(drop=True)\n",
    "X.to_csv(os.path.join(\"..\", \"data\", dataset_name, \"ma_features.csv\"), index=False)\n",
    "y.to_csv(os.path.join(\"..\", \"data\", dataset_name, \"ma_labels.csv\"), index=False)"
   ]
  },
  {
   "cell_type": "markdown",
   "metadata": {},
   "source": [
    "## ------------- Compute strata sizes -------------"
   ]
  },
  {
   "cell_type": "code",
   "execution_count": 26,
   "metadata": {},
   "outputs": [],
   "source": [
    "def get_sum_value(nested_dict):\n",
    "    sum_value = 0\n",
    "    for _, v in nested_dict.items():\n",
    "        if isinstance(v, dict):\n",
    "            v = get_sum_value(v)\n",
    "        sum_value += v\n",
    "    return sum_value\n",
    "\n",
    "def get_max_value(nested_dict):\n",
    "    max_value = 0\n",
    "    for _, v in nested_dict.items():\n",
    "        if isinstance(v, dict):\n",
    "            v = get_max_value(v)\n",
    "        if v > max_value:\n",
    "            max_value = v\n",
    "    return max_value"
   ]
  },
  {
   "cell_type": "code",
   "execution_count": 19,
   "metadata": {},
   "outputs": [],
   "source": [
    "X_path = os.path.join(\"..\", \"data\", dataset_name, \"ma_features.csv\")\n",
    "y_path = os.path.join(\"..\", \"data\", dataset_name, \"ma_labels.csv\")\n",
    "\n",
    "# read in the data\n",
    "X = pd.read_csv(X_path)\n",
    "y = pd.read_csv(y_path)"
   ]
  },
  {
   "cell_type": "code",
   "execution_count": 20,
   "metadata": {},
   "outputs": [],
   "source": [
    "protected_attributes = [\"Female\", \"African_American\", \"Age_Below_TwentyFive\", \"Misdemeanor\", \"Number_of_Priors\"]\n",
    "possible_values = [len(X[attr].unique()) for attr in protected_attributes]\n",
    "value_sets = [set(range(possible_values[i])) for i in range(len(possible_values))]"
   ]
  },
  {
   "cell_type": "code",
   "execution_count": 21,
   "metadata": {},
   "outputs": [
    {
     "data": {
      "text/plain": [
       "[2, 2, 2, 2, 4]"
      ]
     },
     "execution_count": 21,
     "metadata": {},
     "output_type": "execute_result"
    }
   ],
   "source": [
    "possible_values"
   ]
  },
  {
   "cell_type": "code",
   "execution_count": 22,
   "metadata": {},
   "outputs": [],
   "source": [
    "from itertools import combinations, product\n",
    "import pickle\n",
    "import numpy as np\n",
    "import matplotlib.pyplot as plt"
   ]
  },
  {
   "cell_type": "code",
   "execution_count": 23,
   "metadata": {},
   "outputs": [
    {
     "name": "stdout",
     "output_type": "stream",
     "text": [
      "Working on base agent 0\n",
      "Working on k=0\n",
      "Working on []\n",
      "Working on k=1\n",
      "Working on ['African_American']\n",
      "Working on ['Age_Below_TwentyFive']\n",
      "Working on ['Misdemeanor']\n",
      "Working on ['Number_of_Priors']\n",
      "Working on k=2\n",
      "Working on ['African_American', 'Age_Below_TwentyFive']\n",
      "Working on ['African_American', 'Misdemeanor']\n",
      "Working on ['African_American', 'Number_of_Priors']\n",
      "Working on ['Age_Below_TwentyFive', 'Misdemeanor']\n",
      "Working on ['Age_Below_TwentyFive', 'Number_of_Priors']\n",
      "Working on ['Misdemeanor', 'Number_of_Priors']\n",
      "Working on k=3\n",
      "Working on ['African_American', 'Age_Below_TwentyFive', 'Misdemeanor']\n",
      "Working on ['African_American', 'Age_Below_TwentyFive', 'Number_of_Priors']\n",
      "Working on ['African_American', 'Misdemeanor', 'Number_of_Priors']\n",
      "Working on ['Age_Below_TwentyFive', 'Misdemeanor', 'Number_of_Priors']\n",
      "Working on k=4\n",
      "Working on ['African_American', 'Age_Below_TwentyFive', 'Misdemeanor', 'Number_of_Priors']\n",
      "Working on base agent 1\n",
      "Working on k=0\n",
      "Working on []\n",
      "Working on k=1\n",
      "Working on ['Female']\n",
      "Working on ['Age_Below_TwentyFive']\n",
      "Working on ['Misdemeanor']\n",
      "Working on ['Number_of_Priors']\n",
      "Working on k=2\n",
      "Working on ['Female', 'Age_Below_TwentyFive']\n",
      "Working on ['Female', 'Misdemeanor']\n",
      "Working on ['Female', 'Number_of_Priors']\n",
      "Working on ['Age_Below_TwentyFive', 'Misdemeanor']\n",
      "Working on ['Age_Below_TwentyFive', 'Number_of_Priors']\n",
      "Working on ['Misdemeanor', 'Number_of_Priors']\n",
      "Working on k=3\n",
      "Working on ['Female', 'Age_Below_TwentyFive', 'Misdemeanor']\n",
      "Working on ['Female', 'Age_Below_TwentyFive', 'Number_of_Priors']\n",
      "Working on ['Female', 'Misdemeanor', 'Number_of_Priors']\n",
      "Working on ['Age_Below_TwentyFive', 'Misdemeanor', 'Number_of_Priors']\n",
      "Working on k=4\n",
      "Working on ['Female', 'Age_Below_TwentyFive', 'Misdemeanor', 'Number_of_Priors']\n",
      "Working on base agent 2\n",
      "Working on k=0\n",
      "Working on []\n",
      "Working on k=1\n",
      "Working on ['Female']\n",
      "Working on ['African_American']\n",
      "Working on ['Misdemeanor']\n",
      "Working on ['Number_of_Priors']\n",
      "Working on k=2\n",
      "Working on ['Female', 'African_American']\n",
      "Working on ['Female', 'Misdemeanor']\n",
      "Working on ['Female', 'Number_of_Priors']\n",
      "Working on ['African_American', 'Misdemeanor']\n",
      "Working on ['African_American', 'Number_of_Priors']\n",
      "Working on ['Misdemeanor', 'Number_of_Priors']\n",
      "Working on k=3\n",
      "Working on ['Female', 'African_American', 'Misdemeanor']\n",
      "Working on ['Female', 'African_American', 'Number_of_Priors']\n",
      "Working on ['Female', 'Misdemeanor', 'Number_of_Priors']\n",
      "Working on ['African_American', 'Misdemeanor', 'Number_of_Priors']\n",
      "Working on k=4\n",
      "Working on ['Female', 'African_American', 'Misdemeanor', 'Number_of_Priors']\n",
      "Working on base agent 3\n",
      "Working on k=0\n",
      "Working on []\n",
      "Working on k=1\n",
      "Working on ['Female']\n",
      "Working on ['African_American']\n",
      "Working on ['Age_Below_TwentyFive']\n",
      "Working on ['Number_of_Priors']\n",
      "Working on k=2\n",
      "Working on ['Female', 'African_American']\n",
      "Working on ['Female', 'Age_Below_TwentyFive']\n",
      "Working on ['Female', 'Number_of_Priors']\n",
      "Working on ['African_American', 'Age_Below_TwentyFive']\n",
      "Working on ['African_American', 'Number_of_Priors']\n",
      "Working on ['Age_Below_TwentyFive', 'Number_of_Priors']\n",
      "Working on k=3\n",
      "Working on ['Female', 'African_American', 'Age_Below_TwentyFive']\n",
      "Working on ['Female', 'African_American', 'Number_of_Priors']\n",
      "Working on ['Female', 'Age_Below_TwentyFive', 'Number_of_Priors']\n",
      "Working on ['African_American', 'Age_Below_TwentyFive', 'Number_of_Priors']\n",
      "Working on k=4\n",
      "Working on ['Female', 'African_American', 'Age_Below_TwentyFive', 'Number_of_Priors']\n",
      "Working on base agent 4\n",
      "Working on k=0\n",
      "Working on []\n",
      "Working on k=1\n",
      "Working on ['Female']\n",
      "Working on ['African_American']\n",
      "Working on ['Age_Below_TwentyFive']\n",
      "Working on ['Misdemeanor']\n",
      "Working on k=2\n",
      "Working on ['Female', 'African_American']\n",
      "Working on ['Female', 'Age_Below_TwentyFive']\n",
      "Working on ['Female', 'Misdemeanor']\n",
      "Working on ['African_American', 'Age_Below_TwentyFive']\n",
      "Working on ['African_American', 'Misdemeanor']\n",
      "Working on ['Age_Below_TwentyFive', 'Misdemeanor']\n",
      "Working on k=3\n",
      "Working on ['Female', 'African_American', 'Age_Below_TwentyFive']\n",
      "Working on ['Female', 'African_American', 'Misdemeanor']\n",
      "Working on ['Female', 'Age_Below_TwentyFive', 'Misdemeanor']\n",
      "Working on ['African_American', 'Age_Below_TwentyFive', 'Misdemeanor']\n",
      "Working on k=4\n",
      "Working on ['Female', 'African_American', 'Age_Below_TwentyFive', 'Misdemeanor']\n"
     ]
    }
   ],
   "source": [
    "features = X\n",
    "labels = y\n",
    "n = len(protected_attributes)\n",
    "\n",
    "all_probs = dict()\n",
    "all_ys = dict()\n",
    "all_nks = dict()\n",
    "\n",
    "for base_agent in range(n): # Base agent\n",
    "    print(f'Working on base agent {base_agent}')\n",
    "    base_attr = protected_attributes[base_agent]\n",
    "    possible_collaborators = [i for i in range(n) if i != base_agent]\n",
    "    all_probs[base_agent] = dict()\n",
    "    all_ys[base_agent] = dict()\n",
    "    all_nks[base_agent] = dict()\n",
    "\n",
    "    for k in range(0, n): # Number of collaborators, 1 to n-1\n",
    "\n",
    "        print(f'Working on k={k}')\n",
    "        all_probs[base_agent][k] = dict()\n",
    "        all_ys[base_agent][k] = dict()\n",
    "        all_nks[base_agent][k] = dict()\n",
    "\n",
    "        agent_combinations_list = list(combinations(possible_collaborators, k))\n",
    "\n",
    "        for agent_combination in agent_combinations_list:\n",
    "            agent_comb_str = ''.join([str(elem) for elem in agent_combination])\n",
    "\n",
    "            all_probs[base_agent][k][agent_comb_str] = dict()\n",
    "            all_ys[base_agent][k][agent_comb_str] = dict()\n",
    "            all_nks[base_agent][k][agent_comb_str] = dict()\n",
    "\n",
    "            current_set = [value_sets[i] for i in agent_combination]\n",
    "            value_strings = list(product(*current_set))\n",
    "            value_strings = [\"\".join([str(elem) for elem in value_string]) for value_string in value_strings]\n",
    "\n",
    "            attrs = [protected_attributes[i] for i in agent_combination]\n",
    "            print(f'Working on {attrs}')\n",
    "            for value_string in value_strings:\n",
    "\n",
    "                all_probs[base_agent][k][agent_comb_str][value_string] = dict()\n",
    "                all_ys[base_agent][k][agent_comb_str][value_string] = dict()\n",
    "                all_nks[base_agent][k][agent_comb_str][value_string] = dict()\n",
    "\n",
    "                pairs = [(attrs[i], int(value_string[i])) for i in range(k)]\n",
    "\n",
    "                base_agent_value_set = value_sets[base_agent]\n",
    "                \n",
    "                for base_agent_value in base_agent_value_set:\n",
    "                    X_temp = features.copy()\n",
    "                    X_temp = X_temp[X_temp[base_attr] == base_agent_value]\n",
    "                    X_temp_i = X_temp.copy()\n",
    "                    for attr, val in pairs:\n",
    "                        X_temp = X_temp[X_temp[attr] == val]\n",
    "                    y_tmp = labels.loc[X_temp.index]\n",
    "                    assert len(X_temp) == len(y_tmp), f'Length mismatch ==> X: {len(X_temp)}, y: {len(y_tmp)}'\n",
    "                \n",
    "                    all_probs[base_agent][k][agent_comb_str][value_string][base_agent_value] = len(X_temp) / len(X_temp_i)\n",
    "                    all_ys[base_agent][k][agent_comb_str][value_string][base_agent_value] = y_tmp.mean().item()\n",
    "                    all_nks[base_agent][k][agent_comb_str][value_string][base_agent_value] = len(X_temp)\n",
    "\n",
    "subspace_features_probabilities = all_probs\n",
    "subspace_labels_probabilities = all_ys\n",
    "subspace_sizes = all_nks"
   ]
  },
  {
   "cell_type": "code",
   "execution_count": 24,
   "metadata": {},
   "outputs": [],
   "source": [
    "# save all the data\n",
    "all_probs_file = os.path.join(\"..\", \"data\", dataset_name, \"ma_all_probs.pkl\")\n",
    "all_ys_file = os.path.join(\"..\", \"data\", dataset_name, \"ma_all_ys.pkl\")\n",
    "all_nks_file = os.path.join(\"..\", \"data\", dataset_name, \"ma_all_nks.pkl\")\n",
    "\n",
    "pickle.dump(all_probs, open(all_probs_file, \"wb\"))\n",
    "pickle.dump(all_ys, open(all_ys_file, \"wb\"))\n",
    "pickle.dump(all_nks, open(all_nks_file, \"wb\"))"
   ]
  },
  {
   "cell_type": "code",
   "execution_count": 27,
   "metadata": {},
   "outputs": [],
   "source": [
    "# propublica\n",
    "probs_file = '/home/dhasade/audits/ml-audits/data/propublica/ma_all_nks.pkl'\n",
    "ts = 6172\n",
    "\n",
    "with open(probs_file, 'rb') as f:\n",
    "    ns = pickle.load(f)\n",
    "\n",
    "n = 5\n",
    "\n",
    "max_ns = [[] for _ in range(1, n+1)]\n",
    "\n",
    "for k in range(1, n+1):\n",
    "    possible_collaborators = list(range(n))\n",
    "    agent_combinations_list = list(combinations(possible_collaborators, k))\n",
    "\n",
    "    for agent_combination in agent_combinations_list:\n",
    "        agent_comb_str = ''.join([str(elem) for elem in agent_combination])\n",
    "        \n",
    "        base_agent = agent_combination[0]\n",
    "        rem_agents_str = agent_comb_str[1:]\n",
    "\n",
    "        ns_dict = ns[base_agent][k-1][rem_agents_str]\n",
    "        max_ns[k-1].append(get_max_value(ns_dict))\n",
    "\n",
    "max_ps = [[x/ts for x in max_ns[k]] for k in range(n)]\n",
    "\n",
    "# create data points from max ps\n",
    "xs3 = []; ys3 = []\n",
    "for k in range(n):\n",
    "    # sample a small number between 0 and 1\n",
    "    # to add some noise to the data points\n",
    "    noise = np.random.uniform(0, 0.2, len(max_ps[k]))\n",
    "    xs3.extend([k+1+noise[i] for i in range(len(max_ps[k]))])\n",
    "    ys3.extend([max_ps[k][i] for i in range(len(max_ps[k]))])"
   ]
  },
  {
   "cell_type": "code",
   "execution_count": 28,
   "metadata": {},
   "outputs": [],
   "source": [
    "# regression line y = 1/2x\n",
    "reg_xs = np.linspace(1, 5, 100)\n",
    "reg_ys = [1/(3.5*x) for x in reg_xs]"
   ]
  },
  {
   "cell_type": "code",
   "execution_count": 29,
   "metadata": {},
   "outputs": [],
   "source": [
    "s = 6\n",
    "params = {\n",
    "   'legend.fontsize': s,\n",
    "   'legend.title_fontsize': s,\n",
    "   'xtick.labelsize': 6,\n",
    "   'ytick.labelsize': 6,\n",
    "   'axes.labelsize': s+1,\n",
    "   'text.usetex': False,\n",
    "   # 'figure.figsize': [2.3, 1.3],\n",
    "   'figure.figsize': [2.4, 1.4],\n",
    "   'lines.linewidth': 1,\n",
    "   'lines.markersize': 3,\n",
    "   'axes.titlesize': s,\n",
    "   }\n",
    "\n",
    "# set rc params\n",
    "plt.rcParams.update(params)\n",
    "# no background for the legend\n",
    "plt.rc('legend', frameon=False)    # no background for the legend"
   ]
  },
  {
   "cell_type": "code",
   "execution_count": 34,
   "metadata": {},
   "outputs": [
    {
     "data": {
      "image/png": "[encoded data removed]",
      "text/plain": [
       "<Figure size 240x140 with 1 Axes>"
      ]
     },
     "metadata": {},
     "output_type": "display_data"
    }
   ],
   "source": [
    "plt.grid(True, which='both', linestyle='--', linewidth=0.5)\n",
    "plt.scatter(xs3, ys3)\n",
    "plt.plot(reg_xs, reg_ys, color='red')\n",
    "plt.xlabel('Number of agents')\n",
    "plt.ylabel('Relative size of \\n largest stratum')\n",
    "plt.title('Propublica')\n",
    "\n",
    "plot_name = 'pp_largest_stratum_ma.pdf'\n",
    "# plt.savefig(f'/home/dhasade/audits/ml-audits/results/ECAI/plots/{plot_name}', bbox_inches='tight', dpi=300)"
   ]
  },
  {
   "cell_type": "code",
   "execution_count": null,
   "metadata": {},
   "outputs": [],
   "source": []
  }
 ],
 "metadata": {
  "kernelspec": {
   "display_name": "audits",
   "language": "python",
   "name": "python3"
  },
  "language_info": {
   "codemirror_mode": {
    "name": "ipython",
    "version": 3
   },
   "file_extension": ".py",
   "mimetype": "text/x-python",
   "name": "python",
   "nbconvert_exporter": "python",
   "pygments_lexer": "ipython3",
   "version": "3.8.17"
  }
 },
 "nbformat": 4,
 "nbformat_minor": 2
}
